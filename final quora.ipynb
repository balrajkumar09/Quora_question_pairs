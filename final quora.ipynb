{
 "cells": [
  {
   "cell_type": "code",
   "execution_count": 1,
   "metadata": {
    "collapsed": false,
    "deletable": true,
    "editable": true
   },
   "outputs": [
    {
     "name": "stderr",
     "output_type": "stream",
     "text": [
      "C:\\Users\\USER\\AppData\\Local\\Enthought\\Canopy\\edm\\envs\\User\\lib\\site-packages\\gensim\\utils.py:1197: UserWarning: detected Windows; aliasing chunkize to chunkize_serial\n",
      "  warnings.warn(\"detected Windows; aliasing chunkize to chunkize_serial\")\n"
     ]
    },
    {
     "data": {
      "text/html": [
       "<div>\n",
       "<style>\n",
       "    .dataframe thead tr:only-child th {\n",
       "        text-align: right;\n",
       "    }\n",
       "\n",
       "    .dataframe thead th {\n",
       "        text-align: left;\n",
       "    }\n",
       "\n",
       "    .dataframe tbody tr th {\n",
       "        vertical-align: top;\n",
       "    }\n",
       "</style>\n",
       "<table border=\"1\" class=\"dataframe\">\n",
       "  <thead>\n",
       "    <tr style=\"text-align: right;\">\n",
       "      <th></th>\n",
       "      <th>id</th>\n",
       "      <th>qid1</th>\n",
       "      <th>qid2</th>\n",
       "      <th>question1</th>\n",
       "      <th>question2</th>\n",
       "      <th>is_duplicate</th>\n",
       "    </tr>\n",
       "  </thead>\n",
       "  <tbody>\n",
       "    <tr>\n",
       "      <th>0</th>\n",
       "      <td>0</td>\n",
       "      <td>1</td>\n",
       "      <td>2</td>\n",
       "      <td>What is the step by step guide to invest in sh...</td>\n",
       "      <td>What is the step by step guide to invest in sh...</td>\n",
       "      <td>0</td>\n",
       "    </tr>\n",
       "    <tr>\n",
       "      <th>1</th>\n",
       "      <td>1</td>\n",
       "      <td>3</td>\n",
       "      <td>4</td>\n",
       "      <td>What is the story of Kohinoor (Koh-i-Noor) Dia...</td>\n",
       "      <td>What would happen if the Indian government sto...</td>\n",
       "      <td>0</td>\n",
       "    </tr>\n",
       "    <tr>\n",
       "      <th>2</th>\n",
       "      <td>2</td>\n",
       "      <td>5</td>\n",
       "      <td>6</td>\n",
       "      <td>How can I increase the speed of my internet co...</td>\n",
       "      <td>How can Internet speed be increased by hacking...</td>\n",
       "      <td>0</td>\n",
       "    </tr>\n",
       "    <tr>\n",
       "      <th>3</th>\n",
       "      <td>3</td>\n",
       "      <td>7</td>\n",
       "      <td>8</td>\n",
       "      <td>Why am I mentally very lonely? How can I solve...</td>\n",
       "      <td>Find the remainder when [math]23^{24}[/math] i...</td>\n",
       "      <td>0</td>\n",
       "    </tr>\n",
       "    <tr>\n",
       "      <th>4</th>\n",
       "      <td>4</td>\n",
       "      <td>9</td>\n",
       "      <td>10</td>\n",
       "      <td>Which one dissolve in water quikly sugar, salt...</td>\n",
       "      <td>Which fish would survive in salt water?</td>\n",
       "      <td>0</td>\n",
       "    </tr>\n",
       "  </tbody>\n",
       "</table>\n",
       "</div>"
      ],
      "text/plain": [
       "   id  qid1  qid2                                          question1  \\\n",
       "0   0     1     2  What is the step by step guide to invest in sh...   \n",
       "1   1     3     4  What is the story of Kohinoor (Koh-i-Noor) Dia...   \n",
       "2   2     5     6  How can I increase the speed of my internet co...   \n",
       "3   3     7     8  Why am I mentally very lonely? How can I solve...   \n",
       "4   4     9    10  Which one dissolve in water quikly sugar, salt...   \n",
       "\n",
       "                                           question2  is_duplicate  \n",
       "0  What is the step by step guide to invest in sh...             0  \n",
       "1  What would happen if the Indian government sto...             0  \n",
       "2  How can Internet speed be increased by hacking...             0  \n",
       "3  Find the remainder when [math]23^{24}[/math] i...             0  \n",
       "4            Which fish would survive in salt water?             0  "
      ]
     },
     "execution_count": 1,
     "metadata": {},
     "output_type": "execute_result"
    }
   ],
   "source": [
    "import numpy as np\n",
    "import pandas as pd\n",
    "import multiprocessing as mp\n",
    "import datetime as dt\n",
    "import math\n",
    "import os\n",
    "import gc\n",
    "import pickle\n",
    "\n",
    "from sklearn.feature_extraction.text import TfidfVectorizer\n",
    "from sklearn.metrics import log_loss\n",
    "from sklearn.metrics import roc_auc_score\n",
    "from sklearn.model_selection import train_test_split\n",
    "from sklearn.model_selection import GridSearchCV\n",
    "\n",
    "import matplotlib.pyplot as plt\n",
    "from IPython import get_ipython\n",
    "get_ipython().run_line_magic('matplotlib', 'inline')\n",
    "\n",
    "from nltk.tokenize import RegexpTokenizer\n",
    "from nltk.stem import SnowballStemmer\n",
    "from nltk.stem import WordNetLemmatizer\n",
    "from nltk.corpus import stopwords\n",
    "\n",
    "from imblearn.over_sampling import SMOTE\n",
    "\n",
    "import xgboost as xgb\n",
    "\n",
    "import gensim.models.doc2vec as d2v\n",
    "\n",
    "from random import shuffle\n",
    "\n",
    "from scipy.spatial.distance import cosine\n",
    "\n",
    "gc.collect()\n",
    "\n",
    "TRAIN = pd.read_csv('train.csv')\n",
    "TRAIN.head()"
   ]
  },
  {
   "cell_type": "code",
   "execution_count": 2,
   "metadata": {
    "collapsed": false,
    "deletable": true,
    "editable": true
   },
   "outputs": [
    {
     "data": {
      "text/html": [
       "<div>\n",
       "<style>\n",
       "    .dataframe thead tr:only-child th {\n",
       "        text-align: right;\n",
       "    }\n",
       "\n",
       "    .dataframe thead th {\n",
       "        text-align: left;\n",
       "    }\n",
       "\n",
       "    .dataframe tbody tr th {\n",
       "        vertical-align: top;\n",
       "    }\n",
       "</style>\n",
       "<table border=\"1\" class=\"dataframe\">\n",
       "  <thead>\n",
       "    <tr style=\"text-align: right;\">\n",
       "      <th></th>\n",
       "      <th>id</th>\n",
       "      <th>qid1</th>\n",
       "      <th>qid2</th>\n",
       "      <th>question1</th>\n",
       "      <th>question2</th>\n",
       "      <th>is_duplicate</th>\n",
       "    </tr>\n",
       "  </thead>\n",
       "  <tbody>\n",
       "    <tr>\n",
       "      <th>404285</th>\n",
       "      <td>404285</td>\n",
       "      <td>433578</td>\n",
       "      <td>379845</td>\n",
       "      <td>How many keywords are there in the Racket prog...</td>\n",
       "      <td>How many keywords are there in PERL Programmin...</td>\n",
       "      <td>0</td>\n",
       "    </tr>\n",
       "    <tr>\n",
       "      <th>404286</th>\n",
       "      <td>404286</td>\n",
       "      <td>18840</td>\n",
       "      <td>155606</td>\n",
       "      <td>Do you believe there is life after death?</td>\n",
       "      <td>Is it true that there is life after death?</td>\n",
       "      <td>1</td>\n",
       "    </tr>\n",
       "    <tr>\n",
       "      <th>404287</th>\n",
       "      <td>404287</td>\n",
       "      <td>537928</td>\n",
       "      <td>537929</td>\n",
       "      <td>What is one coin?</td>\n",
       "      <td>What's this coin?</td>\n",
       "      <td>0</td>\n",
       "    </tr>\n",
       "    <tr>\n",
       "      <th>404288</th>\n",
       "      <td>404288</td>\n",
       "      <td>537930</td>\n",
       "      <td>537931</td>\n",
       "      <td>What is the approx annual cost of living while...</td>\n",
       "      <td>I am having little hairfall problem but I want...</td>\n",
       "      <td>0</td>\n",
       "    </tr>\n",
       "    <tr>\n",
       "      <th>404289</th>\n",
       "      <td>404289</td>\n",
       "      <td>537932</td>\n",
       "      <td>537933</td>\n",
       "      <td>What is like to have sex with cousin?</td>\n",
       "      <td>What is it like to have sex with your cousin?</td>\n",
       "      <td>0</td>\n",
       "    </tr>\n",
       "  </tbody>\n",
       "</table>\n",
       "</div>"
      ],
      "text/plain": [
       "            id    qid1    qid2  \\\n",
       "404285  404285  433578  379845   \n",
       "404286  404286   18840  155606   \n",
       "404287  404287  537928  537929   \n",
       "404288  404288  537930  537931   \n",
       "404289  404289  537932  537933   \n",
       "\n",
       "                                                question1  \\\n",
       "404285  How many keywords are there in the Racket prog...   \n",
       "404286          Do you believe there is life after death?   \n",
       "404287                                  What is one coin?   \n",
       "404288  What is the approx annual cost of living while...   \n",
       "404289              What is like to have sex with cousin?   \n",
       "\n",
       "                                                question2  is_duplicate  \n",
       "404285  How many keywords are there in PERL Programmin...             0  \n",
       "404286         Is it true that there is life after death?             1  \n",
       "404287                                  What's this coin?             0  \n",
       "404288  I am having little hairfall problem but I want...             0  \n",
       "404289      What is it like to have sex with your cousin?             0  "
      ]
     },
     "execution_count": 2,
     "metadata": {},
     "output_type": "execute_result"
    }
   ],
   "source": [
    "TRAIN.tail()"
   ]
  },
  {
   "cell_type": "code",
   "execution_count": 2,
   "metadata": {
    "collapsed": false,
    "deletable": true,
    "editable": true
   },
   "outputs": [
    {
     "name": "stdout",
     "output_type": "stream",
     "text": [
      "Number of total questions:    537933\n",
      "Number of unique questions:   426153\n",
      "Number of repeated questions: 111780\n",
      "\n",
      "Percent unique: 0.79%\n"
     ]
    },
    {
     "data": {
      "image/png": "[encoded data removed]",
      "text/plain": [
       "<matplotlib.figure.Figure at 0x22139694a58>"
      ]
     },
     "metadata": {},
     "output_type": "display_data"
    }
   ],
   "source": [
    "qid = TRAIN.qid1.tolist() + TRAIN.qid2.tolist()\n",
    "qid_dict = dict.fromkeys(qid, 0)\n",
    "\n",
    "for x in qid:\n",
    "    qid_dict[x] += 1\n",
    "\n",
    "unique = 0\n",
    "for x in qid_dict:\n",
    "    if qid_dict[x] == 1:\n",
    "        unique += 1\n",
    "\n",
    "total = len(qid_dict)\n",
    "non_unique = total - unique\n",
    "\n",
    "print('Number of total questions: '.ljust(30) + str(total))\n",
    "print('Number of unique questions: '.ljust(30) + str(unique))\n",
    "print('Number of repeated questions: '.ljust(30) + str(non_unique))\n",
    "print('\\nPercent unique: ' + '{0:.2f}%'.format(unique / total))\n",
    "\n",
    "plt.figure(figsize=(12, 6))\n",
    "plt.hist(pd.Series(qid).value_counts(), bins=40, log=True, color='lightcoral', label='train')\n",
    "plt.xlabel('Number of Uses')\n",
    "plt.ylabel('Number of Questions')\n",
    "plt.title('Log of Number of Question Uses')\n",
    "plt.show()\n",
    "\n",
    "del qid, qid_dict, unique, total, non_unique"
   ]
  },
  {
   "cell_type": "code",
   "execution_count": 3,
   "metadata": {
    "collapsed": false,
    "deletable": true,
    "editable": true
   },
   "outputs": [
    {
     "name": "stdout",
     "output_type": "stream",
     "text": [
      "Number of question pairs:     404290\n",
      "Number of duplicates:         149263\n",
      "Number of non-duplicates:     255027\n"
     ]
    },
    {
     "data": {
      "image/png": "[encoded data removed]",
      "text/plain": [
       "<matplotlib.figure.Figure at 0x2213d135860>"
      ]
     },
     "metadata": {},
     "output_type": "display_data"
    }
   ],
   "source": [
    "print('Number of question pairs: '.ljust(30) + str(len(TRAIN)))\n",
    "print('Number of duplicates: '.ljust(30) + str(len(TRAIN[TRAIN.is_duplicate == 1])))\n",
    "print('Number of non-duplicates: '.ljust(30) + str(len(TRAIN[TRAIN.is_duplicate == 0])))\n",
    "\n",
    "plt.figure(figsize=(4, 4))\n",
    "plt.pie(TRAIN.is_duplicate.value_counts(), explode=(0.1, 0), labels=('Non-duplicate', 'Duplicate'), colors=('yellowgreen', 'lightskyblue'), autopct='%1.2f%%', shadow=True, startangle=140)\n",
    "plt.axis('equal')\n",
    "plt.show()"
   ]
  },
  {
   "cell_type": "code",
   "execution_count": 4,
   "metadata": {
    "collapsed": false,
    "deletable": true,
    "editable": true
   },
   "outputs": [
    {
     "data": {
      "text/html": [
       "<div>\n",
       "<style>\n",
       "    .dataframe thead tr:only-child th {\n",
       "        text-align: right;\n",
       "    }\n",
       "\n",
       "    .dataframe thead th {\n",
       "        text-align: left;\n",
       "    }\n",
       "\n",
       "    .dataframe tbody tr th {\n",
       "        vertical-align: top;\n",
       "    }\n",
       "</style>\n",
       "<table border=\"1\" class=\"dataframe\">\n",
       "  <thead>\n",
       "    <tr style=\"text-align: right;\">\n",
       "      <th></th>\n",
       "      <th>test_id</th>\n",
       "      <th>question1</th>\n",
       "      <th>question2</th>\n",
       "    </tr>\n",
       "  </thead>\n",
       "  <tbody>\n",
       "    <tr>\n",
       "      <th>0</th>\n",
       "      <td>0</td>\n",
       "      <td>How does the Surface Pro himself 4 compare wit...</td>\n",
       "      <td>Why did Microsoft choose core m3 and not core ...</td>\n",
       "    </tr>\n",
       "    <tr>\n",
       "      <th>1</th>\n",
       "      <td>1</td>\n",
       "      <td>Should I have a hair transplant at age 24? How...</td>\n",
       "      <td>How much cost does hair transplant require?</td>\n",
       "    </tr>\n",
       "    <tr>\n",
       "      <th>2</th>\n",
       "      <td>2</td>\n",
       "      <td>What but is the best way to send money from Ch...</td>\n",
       "      <td>What you send money to China?</td>\n",
       "    </tr>\n",
       "    <tr>\n",
       "      <th>3</th>\n",
       "      <td>3</td>\n",
       "      <td>Which food not emulsifiers?</td>\n",
       "      <td>What foods fibre?</td>\n",
       "    </tr>\n",
       "    <tr>\n",
       "      <th>4</th>\n",
       "      <td>4</td>\n",
       "      <td>How \"aberystwyth\" start reading?</td>\n",
       "      <td>How their can I start reading?</td>\n",
       "    </tr>\n",
       "  </tbody>\n",
       "</table>\n",
       "</div>"
      ],
      "text/plain": [
       "   test_id                                          question1  \\\n",
       "0        0  How does the Surface Pro himself 4 compare wit...   \n",
       "1        1  Should I have a hair transplant at age 24? How...   \n",
       "2        2  What but is the best way to send money from Ch...   \n",
       "3        3                        Which food not emulsifiers?   \n",
       "4        4                   How \"aberystwyth\" start reading?   \n",
       "\n",
       "                                           question2  \n",
       "0  Why did Microsoft choose core m3 and not core ...  \n",
       "1        How much cost does hair transplant require?  \n",
       "2                      What you send money to China?  \n",
       "3                                  What foods fibre?  \n",
       "4                     How their can I start reading?  "
      ]
     },
     "execution_count": 4,
     "metadata": {},
     "output_type": "execute_result"
    }
   ],
   "source": [
    "TEST = pd.read_csv('test.csv')\n",
    "TEST.head()"
   ]
  },
  {
   "cell_type": "code",
   "execution_count": 5,
   "metadata": {
    "collapsed": false,
    "deletable": true,
    "editable": true
   },
   "outputs": [
    {
     "data": {
      "text/html": [
       "<div>\n",
       "<style>\n",
       "    .dataframe thead tr:only-child th {\n",
       "        text-align: right;\n",
       "    }\n",
       "\n",
       "    .dataframe thead th {\n",
       "        text-align: left;\n",
       "    }\n",
       "\n",
       "    .dataframe tbody tr th {\n",
       "        vertical-align: top;\n",
       "    }\n",
       "</style>\n",
       "<table border=\"1\" class=\"dataframe\">\n",
       "  <thead>\n",
       "    <tr style=\"text-align: right;\">\n",
       "      <th></th>\n",
       "      <th>test_id</th>\n",
       "      <th>question1</th>\n",
       "      <th>question2</th>\n",
       "    </tr>\n",
       "  </thead>\n",
       "  <tbody>\n",
       "    <tr>\n",
       "      <th>2345791</th>\n",
       "      <td>2345791</td>\n",
       "      <td>How do Peaks (TV series): Why did Leland kill ...</td>\n",
       "      <td>What is the most study scene in twin peaks?</td>\n",
       "    </tr>\n",
       "    <tr>\n",
       "      <th>2345792</th>\n",
       "      <td>2345792</td>\n",
       "      <td>What does be \"in transit\" mean on FedEx tracking?</td>\n",
       "      <td>How question FedEx packages delivered?</td>\n",
       "    </tr>\n",
       "    <tr>\n",
       "      <th>2345793</th>\n",
       "      <td>2345793</td>\n",
       "      <td>What are some famous Romanian drinks (alcoholi...</td>\n",
       "      <td>Can a non-alcoholic restaurant be a huge success?</td>\n",
       "    </tr>\n",
       "    <tr>\n",
       "      <th>2345794</th>\n",
       "      <td>2345794</td>\n",
       "      <td>What were the best and worst things about publ...</td>\n",
       "      <td>What are the best and worst things examination...</td>\n",
       "    </tr>\n",
       "    <tr>\n",
       "      <th>2345795</th>\n",
       "      <td>2345795</td>\n",
       "      <td>What is the best medication equation erectile ...</td>\n",
       "      <td>How do I out get rid of Erectile Dysfunction?</td>\n",
       "    </tr>\n",
       "  </tbody>\n",
       "</table>\n",
       "</div>"
      ],
      "text/plain": [
       "         test_id                                          question1  \\\n",
       "2345791  2345791  How do Peaks (TV series): Why did Leland kill ...   \n",
       "2345792  2345792  What does be \"in transit\" mean on FedEx tracking?   \n",
       "2345793  2345793  What are some famous Romanian drinks (alcoholi...   \n",
       "2345794  2345794  What were the best and worst things about publ...   \n",
       "2345795  2345795  What is the best medication equation erectile ...   \n",
       "\n",
       "                                                 question2  \n",
       "2345791        What is the most study scene in twin peaks?  \n",
       "2345792             How question FedEx packages delivered?  \n",
       "2345793  Can a non-alcoholic restaurant be a huge success?  \n",
       "2345794  What are the best and worst things examination...  \n",
       "2345795      How do I out get rid of Erectile Dysfunction?  "
      ]
     },
     "execution_count": 5,
     "metadata": {},
     "output_type": "execute_result"
    }
   ],
   "source": [
    "TEST.tail()"
   ]
  },
  {
   "cell_type": "code",
   "execution_count": 6,
   "metadata": {
    "collapsed": true,
    "deletable": true,
    "editable": true
   },
   "outputs": [],
   "source": [
    "train_questions = TRAIN.question1.tolist() + TRAIN.question2.tolist()\n",
    "test_questions = TEST.question1.tolist() + TEST.question2.tolist()"
   ]
  },
  {
   "cell_type": "code",
   "execution_count": 7,
   "metadata": {
    "collapsed": false,
    "deletable": true,
    "editable": true
   },
   "outputs": [
    {
     "name": "stdout",
     "output_type": "stream",
     "text": [
      "Train\n",
      "-----\n",
      "Question 1:                   0\n",
      "Question 2:                   2\n",
      "\n",
      "Test\n",
      "----\n",
      "Question 1:                   2\n",
      "Question 2:                   4\n"
     ]
    }
   ],
   "source": [
    "print('Train')\n",
    "print('-----')\n",
    "print('Question 1:'.ljust(30) + str(TRAIN.question1.isnull().sum()))\n",
    "print('Question 2:'.ljust(30) + str(TRAIN.question2.isnull().sum()))\n",
    "print('\\nTest')\n",
    "print('----')\n",
    "print('Question 1:'.ljust(30) + str(TEST.question1.isnull().sum()))\n",
    "print('Question 2:'.ljust(30) + str(TEST.question2.isnull().sum()))"
   ]
  },
  {
   "cell_type": "code",
   "execution_count": 8,
   "metadata": {
    "collapsed": false,
    "deletable": true,
    "editable": true
   },
   "outputs": [
    {
     "name": "stdout",
     "output_type": "stream",
     "text": [
      "\n",
      "Train Statistics\n",
      "----------------\n",
      "count    808580.000000\n",
      "mean         11.064856\n",
      "std           5.889168\n",
      "min           1.000000\n",
      "25%           7.000000\n",
      "50%          10.000000\n",
      "75%          13.000000\n",
      "max         237.000000\n",
      "dtype: float64\n",
      "\n",
      "Test Statistics\n",
      "---------------\n",
      "count    4.691592e+06\n",
      "mean     1.102431e+01\n",
      "std      5.839925e+00\n",
      "min      1.000000e+00\n",
      "25%      7.000000e+00\n",
      "50%      1.000000e+01\n",
      "75%      1.300000e+01\n",
      "max      2.380000e+02\n",
      "dtype: float64\n"
     ]
    },
    {
     "data": {
      "image/png": "[encoded data removed]",
      "text/plain": [
       "<matplotlib.figure.Figure at 0x2216a1c8128>"
      ]
     },
     "metadata": {},
     "output_type": "display_data"
    },
    {
     "data": {
      "image/png": "[encoded data removed]",
      "text/plain": [
       "<matplotlib.figure.Figure at 0x2213d2ceeb8>"
      ]
     },
     "metadata": {},
     "output_type": "display_data"
    }
   ],
   "source": [
    "train_word_counts = pd.Series([len(str(x).split(' ')) for x in train_questions])\n",
    "test_word_counts = pd.Series([len(str(x).split(' ')) for x in test_questions])\n",
    "\n",
    "print('\\nTrain Statistics')\n",
    "print('----------------')\n",
    "print(train_word_counts.describe())\n",
    "print('\\nTest Statistics')\n",
    "print('---------------')\n",
    "print(test_word_counts.describe())\n",
    "\n",
    "plt.figure(figsize=(12,6))\n",
    "plt.hist(train_word_counts, bins=50, range=[0, 50], color=('deeppink'), normed=True, alpha=0.6, label='Train')\n",
    "plt.hist(test_word_counts, bins=50, range=[0, 50], color=('mediumturquoise'), normed=True, alpha=0.6, label='Test')\n",
    "plt.xlabel('Word Count')\n",
    "plt.ylabel('Probability')\n",
    "plt.title('Historgram of Normalized Word Count Per Question')\n",
    "plt.legend()\n",
    "plt.show()\n",
    "\n",
    "plt.figure(figsize=(15, 5))\n",
    "plt.boxplot([train_word_counts, test_word_counts], True, 'bD', vert=False, labels=('Train', 'Test'))\n",
    "plt.xlabel('Word Count')\n",
    "plt.ylabel('Data Set')\n",
    "plt.title('Boxplots of Word Count Per Data Set')\n",
    "plt.show()"
   ]
  },
  {
   "cell_type": "code",
   "execution_count": 9,
   "metadata": {
    "collapsed": false,
    "deletable": true,
    "editable": true
   },
   "outputs": [
    {
     "name": "stdout",
     "output_type": "stream",
     "text": [
      "\n",
      "TRAIN Statistics:\n",
      "-----------------\n",
      "count    808580.000000\n",
      "mean         59.822548\n",
      "std          31.963751\n",
      "min           1.000000\n",
      "25%          39.000000\n",
      "50%          51.000000\n",
      "75%          72.000000\n",
      "max        1169.000000\n",
      "dtype: float64\n",
      "\n",
      "TEST Statistics:\n",
      "----------------\n",
      "count    4.691592e+06\n",
      "mean     6.007010e+01\n",
      "std      3.162463e+01\n",
      "min      1.000000e+00\n",
      "25%      4.000000e+01\n",
      "50%      5.300000e+01\n",
      "75%      7.200000e+01\n",
      "max      1.176000e+03\n",
      "dtype: float64\n"
     ]
    },
    {
     "data": {
      "image/png": "[encoded data removed]",
      "text/plain": [
       "<matplotlib.figure.Figure at 0x22139823b70>"
      ]
     },
     "metadata": {},
     "output_type": "display_data"
    },
    {
     "data": {
      "image/png": "[encoded data removed]",
      "text/plain": [
       "<matplotlib.figure.Figure at 0x2213d0ba2e8>"
      ]
     },
     "metadata": {},
     "output_type": "display_data"
    }
   ],
   "source": [
    "train_char_counts = pd.Series([len(str(x))for x in train_questions])\n",
    "test_char_counts = pd.Series([len(str(x)) for x in test_questions])\n",
    "\n",
    "print('\\nTRAIN Statistics:')\n",
    "print('-----------------')\n",
    "print(train_char_counts.describe())\n",
    "print('\\nTEST Statistics:')\n",
    "print('----------------')\n",
    "print(test_char_counts.describe())\n",
    "\n",
    "plt.figure(figsize=(12,6))\n",
    "plt.hist(train_char_counts, bins=200, range=[0, 200], color=('royalblue'), normed=True, alpha=0.6, label='Train')\n",
    "plt.hist(test_char_counts, bins=200, range=[0, 200], color=('gold'), normed=True, alpha=0.6, label='Test')\n",
    "plt.xlabel('Character Count')\n",
    "plt.ylabel('Probability')\n",
    "plt.title('Historgram of Normalized Character Count Per Question')\n",
    "plt.legend()\n",
    "plt.show()\n",
    "\n",
    "plt.figure(figsize=(15, 5))\n",
    "plt.boxplot([train_char_counts, test_char_counts], True, 'gD', vert=False, labels=('Train', 'Test'))\n",
    "plt.xlabel('Character Count')\n",
    "plt.ylabel('Data Set')\n",
    "plt.title('Boxplots of Character Count Per Data Set')\n",
    "plt.show()"
   ]
  },
  {
   "cell_type": "code",
   "execution_count": 10,
   "metadata": {
    "collapsed": false,
    "deletable": true,
    "editable": true
   },
   "outputs": [
    {
     "data": {
      "text/plain": [
       "64049"
      ]
     },
     "execution_count": 10,
     "metadata": {},
     "output_type": "execute_result"
    }
   ],
   "source": [
    "del train_questions, test_questions, train_word_counts, test_word_counts, train_char_counts, test_char_counts\n",
    "gc.collect()"
   ]
  },
  {
   "cell_type": "code",
   "execution_count": 12,
   "metadata": {
    "collapsed": false,
    "deletable": true,
    "editable": true
   },
   "outputs": [],
   "source": [
    "# Tokenizing\n",
    "tokenizer = RegexpTokenizer(r'\\w+')\n",
    "df = TRAIN.question1.append(TRAIN.question2).apply(lambda x: tokenizer.tokenize(str(x).lower()))"
   ]
  },
  {
   "cell_type": "code",
   "execution_count": 13,
   "metadata": {
    "collapsed": true,
    "deletable": true,
    "editable": true
   },
   "outputs": [],
   "source": [
    "df.to_pickle('TRAIN_tokenized.pkl')"
   ]
  },
  {
   "cell_type": "code",
   "execution_count": 14,
   "metadata": {
    "collapsed": true,
    "deletable": true,
    "editable": true
   },
   "outputs": [],
   "source": [
    "del tokenizer, df"
   ]
  },
  {
   "cell_type": "code",
   "execution_count": 22,
   "metadata": {
    "collapsed": false,
    "deletable": true,
    "editable": true
   },
   "outputs": [
    {
     "name": "stdout",
     "output_type": "stream",
     "text": [
      "[nltk_data] Downloading package stopwords to\n",
      "[nltk_data]     C:\\Users\\USER\\AppData\\Roaming\\nltk_data...\n",
      "[nltk_data]   Unzipping corpora\\stopwords.zip.\n"
     ]
    },
    {
     "data": {
      "text/plain": [
       "True"
      ]
     },
     "execution_count": 22,
     "metadata": {},
     "output_type": "execute_result"
    }
   ],
   "source": [
    "import nltk\n",
    "nltk.download('stopwords')"
   ]
  },
  {
   "cell_type": "code",
   "execution_count": 17,
   "metadata": {
    "collapsed": false,
    "deletable": true,
    "editable": true
   },
   "outputs": [],
   "source": [
    "# Stopword filtering\n",
    "stopset = set(stopwords.words('english'))\n"
   ]
  },
  {
   "cell_type": "code",
   "execution_count": 18,
   "metadata": {
    "collapsed": true,
    "deletable": true,
    "editable": true
   },
   "outputs": [],
   "source": [
    "# Train\n",
    "df = pd.read_pickle('TRAIN_tokenized.pkl')\n",
    "df = df.apply(lambda x: [w for w in x if w not in stopset])\n",
    "df.to_pickle('TRAIN_filtered.pkl')\n",
    "\n",
    "# Test\n",
    "#df = pd.read_pickle('./pickles.gi/TEST_tokenized.pkl')\n",
    "#df = df.apply(lambda x: [w for w in x if w not in stopset])\n",
    "#df.to_pickle('./pickles.gi/TEST_filtered.pkl')\n",
    "\n",
    "del stopset, df"
   ]
  },
  {
   "cell_type": "code",
   "execution_count": 19,
   "metadata": {
    "collapsed": true,
    "deletable": true,
    "editable": true
   },
   "outputs": [],
   "source": [
    "# Stemming (with and without stopword filtering)\n",
    "stemmer = SnowballStemmer('english')\n",
    "\n",
    "# Train - No filtering\n",
    "df = pd.read_pickle('TRAIN_tokenized.pkl')\n",
    "df = df.apply(lambda x: [stemmer.stem(w) for w in x])\n",
    "df.to_pickle('TRAIN_stemmed.pkl')\n",
    "\n",
    "# Train - Filtering\n",
    "df = pd.read_pickle('TRAIN_filtered.pkl')\n",
    "df = df.apply(lambda x: [stemmer.stem(w) for w in x])\n",
    "df.to_pickle('TRAIN_stemmed_filtered.pkl')\n",
    "\n",
    "# Test - No filtering\n",
    "#df = pd.read_pickle('./pickles.gi/TEST_tokenized.pkl')\n",
    "#df = df.apply(lambda x: [stemmer.stem(w) for w in x])\n",
    "#df.to_pickle('./pickles.gi/TEST_stemmed.pkl')\n",
    "\n",
    "# Test - Filtering\n",
    "#df = pd.read_pickle('./pickles.gi/TEST_filtered.pkl')\n",
    "#df = df.apply(lambda x: [stemmer.stem(w) for w in x])\n",
    "#df.to_pickle('./pickles.gi/TEST_stemmed_filtered.pkl')\n",
    "\n",
    "del df, stemmer"
   ]
  },
  {
   "cell_type": "code",
   "execution_count": 27,
   "metadata": {
    "collapsed": false,
    "deletable": true,
    "editable": true
   },
   "outputs": [
    {
     "name": "stdout",
     "output_type": "stream",
     "text": [
      "[nltk_data] Downloading package wordnet to\n",
      "[nltk_data]     C:\\Users\\USER\\AppData\\Roaming\\nltk_data...\n",
      "[nltk_data]   Unzipping corpora\\wordnet.zip.\n"
     ]
    },
    {
     "data": {
      "text/plain": [
       "True"
      ]
     },
     "execution_count": 27,
     "metadata": {},
     "output_type": "execute_result"
    }
   ],
   "source": [
    "import nltk\n",
    "nltk.download('wordnet')"
   ]
  },
  {
   "cell_type": "code",
   "execution_count": 20,
   "metadata": {
    "collapsed": false,
    "deletable": true,
    "editable": true
   },
   "outputs": [],
   "source": [
    "# Lemmatizing (with and without stopword filtering)\n",
    "lemmatizer = WordNetLemmatizer()\n",
    "\n",
    "# Train - No filtering\n",
    "df = pd.read_pickle('TRAIN_tokenized.pkl')\n",
    "df = df.apply(lambda x: [lemmatizer.lemmatize(w) for w in x])\n",
    "df.to_pickle('TRAIN_lemmatized.pkl')\n",
    "\n",
    "# Train - Filtering\n",
    "df = pd.read_pickle('TRAIN_filtered.pkl')\n",
    "df = df.apply(lambda x: [lemmatizer.lemmatize(w) for w in x])\n",
    "df.to_pickle('TRAIN_lemmatized_filtered.pkl')\n",
    "\n",
    "# Test - No filtering\n",
    "#df = pd.read_pickle('./pickles.gi/TEST_tokenized.pkl')\n",
    "#df = df.apply(lambda x: [lemmatizer.lemmatize(w) for w in x])\n",
    "#df.to_pickle('./pickles.gi/TEST_lemmatized.pkl')\n",
    "\n",
    "# Test - Filtering\n",
    "#df = pd.read_pickle('./pickles.gi/TEST_filtered.pkl')\n",
    "#df = df.apply(lambda x: [lemmatizer.lemmatize(w) for w in x])\n",
    "#df.to_pickle('./pickles.gi/TEST_lemmatized_filtered.pkl')\n",
    "\n",
    "del df, lemmatizer"
   ]
  },
  {
   "cell_type": "code",
   "execution_count": 46,
   "metadata": {
    "collapsed": true,
    "deletable": true,
    "editable": true
   },
   "outputs": [],
   "source": [
    "# Tagging for Doc2Vec processing\n",
    "df = pd.DataFrame()\n",
    "\n",
    "# Train\n",
    "preprocessed_stacked = pd.read_pickle('TRAIN_preprocessed_stacked.pkl')\n",
    "df['pid'] = preprocessed_stacked.pid\n",
    "df['qid'] = preprocessed_stacked.qid\n",
    "df['base'] = preprocessed_stacked.apply(lambda x: d2v.TaggedDocument(x['base'], [x['qid']]), axis=1)\n",
    "df['filtered'] = preprocessed_stacked.apply(lambda x: d2v.TaggedDocument(x['filtered'], [x['qid']]), axis=1)\n",
    "df['stemmed'] = preprocessed_stacked.apply(lambda x: d2v.TaggedDocument(x['stemmed'], [x['qid']]), axis=1)\n",
    "df['stemmed_filtered'] = preprocessed_stacked.apply(lambda x: d2v.TaggedDocument(x['stemmed_filtered'], [x['qid']]), axis=1)\n",
    "df['lemmatized'] = preprocessed_stacked.apply(lambda x: d2v.TaggedDocument(x['lemmatized'], [x['qid']]), axis=1)\n",
    "df['lemmatized_filtered'] = preprocessed_stacked.apply(lambda x: d2v.TaggedDocument(x['lemmatized_filtered'], [x['qid']]), axis=1)\n",
    "df.reset_index(drop=True, inplace=True)\n",
    "df.to_pickle('TRAIN_tagged.pkl')\n",
    "\n",
    "# Train\n",
    "#preprocessed_stacked = pd.read_pickle('./pickles.gi/TEST_preprocessed_unstacked.pkl')\n",
    "#df['pid'] = preprocessed_stacked.pid\n",
    "#df['qid'] = preprocessed_stacked.qid\n",
    "#df['base'] = preprocessed_stacked.apply(lambda x: d2v.TaggedDocument(x['base'], [x['qid']]), axis=1)\n",
    "#df['filtered'] = preprocessed_stacked.apply(lambda x: d2v.TaggedDocument(x['filtered'], [x['qid']]), axis=1)\n",
    "#df['stemmed'] = preprocessed_stacked.apply(lambda x: d2v.TaggedDocument(x['stemmed'], [x['qid']]), axis=1)\n",
    "#df['stemmed_filtered'] = preprocessed_stacked.apply(lambda x: d2v.TaggedDocument(x['stemmed_filtered'], [x['qid']]), axis=1)\n",
    "#df['lemmatized'] = preprocessed_stacked.apply(lambda x: d2v.TaggedDocument(x['lemmatized'], [x['qid']]), axis=1)\n",
    "#df['lemmatized_filtered'] = preprocessed_stacked.apply(lambda x: d2v.TaggedDocument(x['lemmatized_filtered'], [x['qid']]), axis=1)\n",
    "#df.reset_index(drop=True, inplace=True)\n",
    "#df.to_pickle('./pickles.gi/TEST_tagged.pkl')\n",
    "\n",
    "del df, preprocessed_stacked"
   ]
  },
  {
   "cell_type": "code",
   "execution_count": 11,
   "metadata": {
    "collapsed": true,
    "deletable": true,
    "editable": true
   },
   "outputs": [],
   "source": [
    "def calculate_word_share(q1, q2, tfidf_weights={}):\n",
    "    if tfidf_weights:\n",
    "        q1_shared = np.sum([tfidf_weights.get(x, 0) for x in q1 if x in q2])\n",
    "        q2_shared = np.sum([tfidf_weights.get(x, 0) for x in q2 if x in q1])\n",
    "        total = np.sum([tfidf_weights.get(x, 0) for x in q1]) + np.sum([tfidf_weights.get(x, 0) for x in q2])\n",
    "    else:\n",
    "        q1_shared = len([x for x in q1 if x in q2])\n",
    "        q2_shared = len([x for x in q2 if x in q1])\n",
    "        total = len(q1) + len(q2)\n",
    "    if total == 0:\n",
    "        return 0\n",
    "    else:\n",
    "        return (q1_shared + q2_shared) / total"
   ]
  },
  {
   "cell_type": "code",
   "execution_count": 12,
   "metadata": {
    "collapsed": true,
    "deletable": true,
    "editable": true
   },
   "outputs": [],
   "source": [
    "TRAIN_preprocessed = pd.read_pickle('TRAIN_preprocessed_unstacked.pkl')"
   ]
  },
  {
   "cell_type": "code",
   "execution_count": 23,
   "metadata": {
    "collapsed": false,
    "deletable": true,
    "editable": true
   },
   "outputs": [
    {
     "data": {
      "image/png": "[encoded data removed]",
      "text/plain": [
       "<matplotlib.figure.Figure at 0x2afd8332f98>"
      ]
     },
     "metadata": {},
     "output_type": "display_data"
    }
   ],
   "source": [
    "# Base\n",
    "TRAIN_word_share_base = TRAIN_preprocessed.apply(lambda x: calculate_word_share(x['base_1'], x['base_2']), axis=1, raw=True)\n",
    "\n",
    "plt.figure(figsize=(15, 5))\n",
    "plt.hist(TRAIN_word_share_base[TRAIN.is_duplicate == 1], bins=20, color=('forestgreen'), normed=True, alpha=0.6, label='Duplicate')\n",
    "plt.hist(TRAIN_word_share_base[TRAIN.is_duplicate == 0], bins=20, color=('violet'), normed=True, alpha=0.6, label='Non-Duplicate')\n",
    "plt.xlabel('Word Share')\n",
    "plt.ylabel('Number of Question Pairs')\n",
    "plt.title('Distribution of Question Pair Word Share')\n",
    "plt.legend()\n",
    "plt.show()\n",
    "\n",
    "TRAIN_word_share_base.to_pickle('TRAIN_word_share_base.pkl')\n",
    "\n",
    "del TRAIN_word_share_base"
   ]
  },
  {
   "cell_type": "code",
   "execution_count": 24,
   "metadata": {
    "collapsed": false,
    "deletable": true,
    "editable": true
   },
   "outputs": [
    {
     "data": {
      "image/png": "[encoded data removed]",
      "text/plain": [
       "<matplotlib.figure.Figure at 0x2b0889a3390>"
      ]
     },
     "metadata": {},
     "output_type": "display_data"
    }
   ],
   "source": [
    "# Stopword filtering\n",
    "TRAIN_word_share_filtered = TRAIN_preprocessed.apply(lambda x: calculate_word_share(x['filtered_1'], x['filtered_2']), axis=1, raw=True)\n",
    "\n",
    "plt.figure(figsize=(15, 5))\n",
    "plt.hist(TRAIN_word_share_filtered[TRAIN.is_duplicate == 1], bins=20, color=('teal'), normed=True, alpha=0.6, label='Duplicate')\n",
    "plt.hist(TRAIN_word_share_filtered[TRAIN.is_duplicate == 0], bins=20, color=('orange'), normed=True, alpha=0.6, label='Non-Duplicate')\n",
    "plt.xlabel('Word Share')\n",
    "plt.ylabel('Number of Question Pairs')\n",
    "plt.title('Distribution of Question Pair Word Share With Stopword Filtering')\n",
    "plt.legend()\n",
    "plt.show()\n",
    "\n",
    "TRAIN_word_share_filtered.to_pickle('TRAIN_word_share_filtered.pkl')\n",
    "\n",
    "del TRAIN_word_share_filtered"
   ]
  },
  {
   "cell_type": "code",
   "execution_count": 25,
   "metadata": {
    "collapsed": false,
    "deletable": true,
    "editable": true
   },
   "outputs": [
    {
     "data": {
      "image/png": "[encoded data removed]",
      "text/plain": [
       "<matplotlib.figure.Figure at 0x2b060b995f8>"
      ]
     },
     "metadata": {},
     "output_type": "display_data"
    }
   ],
   "source": [
    "# Stemming\n",
    "TRAIN_word_share_stemmed = TRAIN_preprocessed.apply(lambda x: calculate_word_share(x['stemmed_1'], x['stemmed_2']), axis=1, raw=True)\n",
    "\n",
    "plt.figure(figsize=(15, 5))\n",
    "plt.hist(TRAIN_word_share_stemmed[TRAIN.is_duplicate == 1], bins=20, color=('indigo'), normed=True, alpha=0.6, label='Duplicate')\n",
    "plt.hist(TRAIN_word_share_stemmed[TRAIN.is_duplicate == 0], bins=20, color=('lawngreen'), normed=True, alpha=0.6, label='Non-Duplicate')\n",
    "plt.xlabel('Word Share')\n",
    "plt.ylabel('Number of Question Pairs')\n",
    "plt.title('Distribution of Question Pair Word Share with Stemming')\n",
    "plt.legend()\n",
    "plt.show()\n",
    "\n",
    "TRAIN_word_share_stemmed.to_pickle('TRAIN_word_share_stemmed.pkl')\n",
    "\n",
    "del TRAIN_word_share_stemmed"
   ]
  },
  {
   "cell_type": "code",
   "execution_count": 26,
   "metadata": {
    "collapsed": false,
    "deletable": true,
    "editable": true
   },
   "outputs": [
    {
     "data": {
      "image/png": "[encoded data removed]",
      "text/plain": [
       "<matplotlib.figure.Figure at 0x2b060a43ef0>"
      ]
     },
     "metadata": {},
     "output_type": "display_data"
    }
   ],
   "source": [
    "# Stopword filtering and stemming\n",
    "TRAIN_word_share_stemmed_filtered = TRAIN_preprocessed.apply(lambda x: calculate_word_share(x['stemmed_filtered_1'], x['stemmed_filtered_2']), axis=1, raw=True)\n",
    "\n",
    "plt.figure(figsize=(15, 5))\n",
    "plt.hist(TRAIN_word_share_stemmed_filtered[TRAIN.is_duplicate == 1], bins=20, color=('saddlebrown'), normed=True, alpha=0.6, label='Duplicate')\n",
    "plt.hist(TRAIN_word_share_stemmed_filtered[TRAIN.is_duplicate == 0], bins=20, color=('cyan'), normed=True, alpha=0.6, label='Non-Duplicate')\n",
    "plt.xlabel('Word Share')\n",
    "plt.ylabel('Number of Question Pairs')\n",
    "plt.title('Distribution of Question Pair Word Share with Stopword Filtering and Stemming')\n",
    "plt.legend()\n",
    "plt.show()\n",
    "\n",
    "TRAIN_word_share_stemmed_filtered.to_pickle('TRAIN_word_share_stemmed_filtered.pkl')\n",
    "\n",
    "del TRAIN_word_share_stemmed_filtered"
   ]
  },
  {
   "cell_type": "code",
   "execution_count": 27,
   "metadata": {
    "collapsed": false,
    "deletable": true,
    "editable": true
   },
   "outputs": [
    {
     "data": {
      "image/png": "[encoded data removed]",
      "text/plain": [
       "<matplotlib.figure.Figure at 0x2b0889a3630>"
      ]
     },
     "metadata": {},
     "output_type": "display_data"
    }
   ],
   "source": [
    "# Lemmatizing\n",
    "TRAIN_word_share_lemmatized = TRAIN_preprocessed.apply(lambda x: calculate_word_share(x['lemmatized_1'], x['lemmatized_2']), axis=1, raw=True)\n",
    "\n",
    "plt.figure(figsize=(15, 5))\n",
    "plt.hist(TRAIN_word_share_lemmatized[TRAIN.is_duplicate == 1], bins=20, color=('darkorange'), normed=True, alpha=0.6, label='Duplicate')\n",
    "plt.hist(TRAIN_word_share_lemmatized[TRAIN.is_duplicate == 0], bins=20, color=('springgreen'), normed=True, alpha=0.6, label='Non-Duplicate')\n",
    "plt.xlabel('Word Share')\n",
    "plt.ylabel('Number of Question Pairs')\n",
    "plt.title('Distribution of Question Pair Word Share with Stemming')\n",
    "plt.legend()\n",
    "plt.show()\n",
    "\n",
    "TRAIN_word_share_lemmatized.to_pickle('TRAIN_word_share_lemmatized.pkl')\n",
    "\n",
    "del TRAIN_word_share_lemmatized"
   ]
  },
  {
   "cell_type": "code",
   "execution_count": 28,
   "metadata": {
    "collapsed": false,
    "deletable": true,
    "editable": true
   },
   "outputs": [
    {
     "data": {
      "image/png": "[encoded data removed]",
      "text/plain": [
       "<matplotlib.figure.Figure at 0x2b0889a3978>"
      ]
     },
     "metadata": {},
     "output_type": "display_data"
    }
   ],
   "source": [
    "# Stopword filtering and lemmatizing\n",
    "TRAIN_word_share_lemmatized_filtered = TRAIN_preprocessed.apply(lambda x: calculate_word_share(x['lemmatized_filtered_1'], x['lemmatized_filtered_2']), axis=1, raw=True)\n",
    "\n",
    "plt.figure(figsize=(15, 5))\n",
    "plt.hist(TRAIN_word_share_lemmatized_filtered[TRAIN.is_duplicate == 1], bins=20, color=('maroon'), normed=True, alpha=0.6, label='Duplicate')\n",
    "plt.hist(TRAIN_word_share_lemmatized_filtered[TRAIN.is_duplicate == 0], bins=20, color=('yellow'), normed=True, alpha=0.6, label='Non-Duplicate')\n",
    "plt.xlabel('Word Share')\n",
    "plt.ylabel('Number of Question Pairs')\n",
    "plt.title('Distribution of Question Pair Word Share with Stopword Filtering and Lemmatizing')\n",
    "plt.legend()\n",
    "plt.show()\n",
    "\n",
    "TRAIN_word_share_lemmatized_filtered.to_pickle('TRAIN_word_share_lemmatized_filtered.pkl')\n",
    "\n",
    "del TRAIN_word_share_lemmatized_filtered"
   ]
  },
  {
   "cell_type": "code",
   "execution_count": 30,
   "metadata": {
    "collapsed": false,
    "deletable": true,
    "editable": true
   },
   "outputs": [],
   "source": [
    "# Combine metrics into single dataframe\n",
    "df = pd.DataFrame()\n",
    "df['pid'] = TRAIN_preprocessed.pid\n",
    "df['base'] = pd.read_pickle('TRAIN_word_share_base.pkl')\n",
    "df['filtered'] = pd.read_pickle('TRAIN_word_share_filtered.pkl')\n",
    "df['stemmed'] = pd.read_pickle('TRAIN_word_share_stemmed.pkl')\n",
    "df['stemmed_filtered'] = pd.read_pickle('TRAIN_word_share_stemmed_filtered.pkl')\n",
    "df['lemmatized'] = pd.read_pickle('TRAIN_word_share_lemmatized.pkl')\n",
    "df['lemmatized_filtered'] = pd.read_pickle('TRAIN_word_share_lemmatized_filtered.pkl')\n",
    "df.to_pickle('TRAIN_word_share.pkl')\n",
    "\n",
    "del df, TRAIN_preprocessed"
   ]
  },
  {
   "cell_type": "code",
   "execution_count": 13,
   "metadata": {
    "collapsed": true,
    "deletable": true,
    "editable": true
   },
   "outputs": [],
   "source": [
    "TRAIN_preprocessed_stacked = pd.read_pickle('TRAIN_preprocessed_stacked.pkl')\n",
    "vectorizer = TfidfVectorizer()\n",
    "\n",
    "# Base\n",
    "TDX = vectorizer.fit_transform(TRAIN_preprocessed_stacked.base.fillna('').apply(lambda x: ' '.join(x)))\n",
    "weights = dict(zip(vectorizer.get_feature_names(), vectorizer.idf_))\n",
    "pickle.dump(weights, open('TRAIN_tfidf_weights_base.pkl', 'wb'))\n",
    "\n",
    "# Filtered\n",
    "TDX = vectorizer.fit_transform(TRAIN_preprocessed_stacked.filtered.fillna('').apply(lambda x: ' '.join(x)))\n",
    "weights = dict(zip(vectorizer.get_feature_names(), vectorizer.idf_))\n",
    "pickle.dump(weights, open('TRAIN_tfidf_weights_filtered.pkl', 'wb'))\n",
    "\n",
    "# Stemmed\n",
    "TDX = vectorizer.fit_transform(TRAIN_preprocessed_stacked.stemmed.fillna('').apply(lambda x: ' '.join(x)))\n",
    "weights = dict(zip(vectorizer.get_feature_names(), vectorizer.idf_))\n",
    "pickle.dump(weights, open('TRAIN_tfidf_weights_stemmed.pkl', 'wb'))\n",
    "\n",
    "# Stemmed & Filtered\n",
    "TDX = vectorizer.fit_transform(TRAIN_preprocessed_stacked.stemmed_filtered.fillna('').apply(lambda x: ' '.join(x)))\n",
    "weights = dict(zip(vectorizer.get_feature_names(), vectorizer.idf_))\n",
    "pickle.dump(weights, open('TRAIN_tfidf_weights_stemmed_filtered.pkl', 'wb'))\n",
    "\n",
    "# Lemmatized\n",
    "TDX = vectorizer.fit_transform(TRAIN_preprocessed_stacked.lemmatized.fillna('').apply(lambda x: ' '.join(x)))\n",
    "weights = dict(zip(vectorizer.get_feature_names(), vectorizer.idf_))\n",
    "pickle.dump(weights, open('TRAIN_tfidf_weights_lemmatized.pkl', 'wb'))\n",
    "\n",
    "# Lemmatized & Filtered\n",
    "TDX = vectorizer.fit_transform(TRAIN_preprocessed_stacked.lemmatized_filtered.fillna('').apply(lambda x: ' '.join(x)))\n",
    "weights = dict(zip(vectorizer.get_feature_names(), vectorizer.idf_))\n",
    "pickle.dump(weights, open('TRAIN_tfidf_weights_lemmatized_filtered.pkl', 'wb'))\n",
    "\n",
    "del TRAIN_preprocessed_stacked, vectorizer, TDX, weights"
   ]
  },
  {
   "cell_type": "code",
   "execution_count": 14,
   "metadata": {
    "collapsed": true,
    "deletable": true,
    "editable": true
   },
   "outputs": [],
   "source": [
    "TRAIN_preprocessed_unstacked = pd.read_pickle('TRAIN_preprocessed_unstacked.pkl')"
   ]
  },
  {
   "cell_type": "code",
   "execution_count": 34,
   "metadata": {
    "collapsed": false,
    "deletable": true,
    "editable": true
   },
   "outputs": [
    {
     "data": {
      "image/png": "[encoded data removed]",
      "text/plain": [
       "<matplotlib.figure.Figure at 0x2b069e2c6a0>"
      ]
     },
     "metadata": {},
     "output_type": "display_data"
    }
   ],
   "source": [
    "weights = pickle.load(open('TRAIN_tfidf_weights_base.pkl', 'rb'))\n",
    "TRAIN_tfidf_word_share_base = TRAIN_preprocessed_unstacked.apply(lambda x: calculate_word_share(x['base_1'], x['base_2'], weights), axis=1, raw=True)\n",
    "\n",
    "plt.figure(figsize=(15, 5))\n",
    "plt.hist(TRAIN_tfidf_word_share_base[TRAIN.is_duplicate == 1], bins=20, color=('gray'), normed=True, alpha=0.6, label='Duplicate')\n",
    "plt.hist(TRAIN_tfidf_word_share_base[TRAIN.is_duplicate == 0], bins=20, color=('orchid'), normed=True, alpha=0.6, label='Non-Duplicate')\n",
    "plt.xlabel('Word Share (TF-IDF)')\n",
    "plt.ylabel('Number of Question Pairs')\n",
    "plt.title('Distribution of Question Pair Word Share (TF-IDF)')\n",
    "plt.legend()\n",
    "plt.show()\n",
    "\n",
    "TRAIN_tfidf_word_share_base.to_pickle('TRAIN_tfidf_word_share_base.pkl')\n",
    "\n",
    "del weights, TRAIN_tfidf_word_share_base"
   ]
  },
  {
   "cell_type": "code",
   "execution_count": 35,
   "metadata": {
    "collapsed": false,
    "deletable": true,
    "editable": true
   },
   "outputs": [
    {
     "data": {
      "image/png": "[encoded data removed]",
      "text/plain": [
       "<matplotlib.figure.Figure at 0x2b077345550>"
      ]
     },
     "metadata": {},
     "output_type": "display_data"
    }
   ],
   "source": [
    "weights = pickle.load(open('TRAIN_tfidf_weights_filtered.pkl', 'rb'))\n",
    "TRAIN_tfidf_word_share_filtered = TRAIN_preprocessed_unstacked.apply(lambda x: calculate_word_share(x['filtered_1'], x['filtered_2'], weights), axis=1, raw=True)\n",
    "\n",
    "plt.figure(figsize=(15, 5))\n",
    "plt.hist(TRAIN_tfidf_word_share_filtered[TRAIN.is_duplicate == 1], bins=20, color=('midnightblue'), normed=True, alpha=0.6, label='Duplicate')\n",
    "plt.hist(TRAIN_tfidf_word_share_filtered[TRAIN.is_duplicate == 0], bins=20, color=('burlywood'), normed=True, alpha=0.6, label='Non-Duplicate')\n",
    "plt.xlabel('Word Share (TF-IDF)')\n",
    "plt.ylabel('Number of Question Pairs')\n",
    "plt.title('Distribution of Question Pair Word Share (TF-IDF)')\n",
    "plt.legend()\n",
    "plt.show()\n",
    "\n",
    "TRAIN_tfidf_word_share_filtered.to_pickle('TRAIN_tfidf_word_share_filtered.pkl')\n",
    "\n",
    "del weights, TRAIN_tfidf_word_share_filtered"
   ]
  },
  {
   "cell_type": "code",
   "execution_count": 36,
   "metadata": {
    "collapsed": false,
    "deletable": true,
    "editable": true
   },
   "outputs": [
    {
     "data": {
      "image/png": "[encoded data removed]",
      "text/plain": [
       "<matplotlib.figure.Figure at 0x2b069a55710>"
      ]
     },
     "metadata": {},
     "output_type": "display_data"
    }
   ],
   "source": [
    "weights = pickle.load(open('TRAIN_tfidf_weights_stemmed.pkl', 'rb'))\n",
    "TRAIN_tfidf_word_share_stemmed = TRAIN_preprocessed_unstacked.apply(lambda x: calculate_word_share(x['stemmed_1'], x['stemmed_2'], weights), axis=1, raw=True)\n",
    "\n",
    "plt.figure(figsize=(15, 5))\n",
    "plt.hist(TRAIN_tfidf_word_share_stemmed[TRAIN.is_duplicate == 1], bins=20, color=('slategray'), normed=True, alpha=0.6, label='Duplicate')\n",
    "plt.hist(TRAIN_tfidf_word_share_stemmed[TRAIN.is_duplicate == 0], bins=20, color=('dodgerblue'), normed=True, alpha=0.6, label='Non-Duplicate')\n",
    "plt.xlabel('Word Share (TF-IDF)')\n",
    "plt.ylabel('Number of Question Pairs')\n",
    "plt.title('Distribution of Question Pair Word Share (TF-IDF)')\n",
    "plt.legend()\n",
    "plt.show()\n",
    "\n",
    "TRAIN_tfidf_word_share_stemmed.to_pickle('TRAIN_tfidf_word_share_stemmed.pkl')\n",
    "\n",
    "del weights, TRAIN_tfidf_word_share_stemmed"
   ]
  },
  {
   "cell_type": "code",
   "execution_count": 37,
   "metadata": {
    "collapsed": false,
    "deletable": true,
    "editable": true
   },
   "outputs": [
    {
     "data": {
      "image/png": "[encoded data removed]",
      "text/plain": [
       "<matplotlib.figure.Figure at 0x2b0693bb550>"
      ]
     },
     "metadata": {},
     "output_type": "display_data"
    }
   ],
   "source": [
    "weights = pickle.load(open('TRAIN_tfidf_weights_stemmed_filtered.pkl', 'rb'))\n",
    "TRAIN_tfidf_word_share_stemmed_filtered = TRAIN_preprocessed_unstacked.apply(lambda x: calculate_word_share(x['stemmed_filtered_1'], x['stemmed_filtered_2'], weights), axis=1, raw=True)\n",
    "\n",
    "plt.figure(figsize=(15, 5))\n",
    "plt.hist(TRAIN_tfidf_word_share_stemmed_filtered[TRAIN.is_duplicate == 1], bins=20, color=('darkolivegreen'), normed=True, alpha=0.6, label='Duplicate')\n",
    "plt.hist(TRAIN_tfidf_word_share_stemmed_filtered[TRAIN.is_duplicate == 0], bins=20, color=('lightskyblue'), normed=True, alpha=0.6, label='Non-Duplicate')\n",
    "plt.xlabel('Word Share (TF-IDF)')\n",
    "plt.ylabel('Number of Question Pairs')\n",
    "plt.title('Distribution of Question Pair Word Share (TF-IDF)')\n",
    "plt.legend()\n",
    "plt.show()\n",
    "\n",
    "TRAIN_tfidf_word_share_stemmed_filtered.to_pickle('TRAIN_tfidf_word_share_stemmed_filtered.pkl')\n",
    "\n",
    "del weights, TRAIN_tfidf_word_share_stemmed_filtered"
   ]
  },
  {
   "cell_type": "code",
   "execution_count": 38,
   "metadata": {
    "collapsed": false,
    "deletable": true,
    "editable": true
   },
   "outputs": [
    {
     "data": {
      "image/png": "[encoded data removed]",
      "text/plain": [
       "<matplotlib.figure.Figure at 0x2b0699d55c0>"
      ]
     },
     "metadata": {},
     "output_type": "display_data"
    }
   ],
   "source": [
    "weights = pickle.load(open('TRAIN_tfidf_weights_lemmatized.pkl', 'rb'))\n",
    "TRAIN_tfidf_word_share_lemmatized = TRAIN_preprocessed_unstacked.apply(lambda x: calculate_word_share(x['lemmatized_1'], x['lemmatized_2'], weights), axis=1, raw=True)\n",
    "\n",
    "plt.figure(figsize=(15, 5))\n",
    "plt.hist(TRAIN_tfidf_word_share_lemmatized[TRAIN.is_duplicate == 1], bins=20, color=('navy'), normed=True, alpha=0.6, label='Duplicate')\n",
    "plt.hist(TRAIN_tfidf_word_share_lemmatized[TRAIN.is_duplicate == 0], bins=20, color=('tomato'), normed=True, alpha=0.6, label='Non-Duplicate')\n",
    "plt.xlabel('Word Share (TF-IDF)')\n",
    "plt.ylabel('Number of Question Pairs')\n",
    "plt.title('Distribution of Question Pair Word Share (TF-IDF)')\n",
    "plt.legend()\n",
    "plt.show()\n",
    "\n",
    "TRAIN_tfidf_word_share_lemmatized.to_pickle('TRAIN_tfidf_word_share_lemmatized.pkl')\n",
    "\n",
    "del weights, TRAIN_tfidf_word_share_lemmatized"
   ]
  },
  {
   "cell_type": "code",
   "execution_count": 39,
   "metadata": {
    "collapsed": false,
    "deletable": true,
    "editable": true
   },
   "outputs": [
    {
     "data": {
      "image/png": "[encoded data removed]",
      "text/plain": [
       "<matplotlib.figure.Figure at 0x2b069ad16d8>"
      ]
     },
     "metadata": {},
     "output_type": "display_data"
    }
   ],
   "source": [
    "weights = pickle.load(open('TRAIN_tfidf_weights_lemmatized_filtered.pkl', 'rb'))\n",
    "TRAIN_tfidf_word_share_lemmatized_filtered = TRAIN_preprocessed_unstacked.apply(lambda x: calculate_word_share(x['lemmatized_filtered_1'], x['lemmatized_filtered_2'], weights), axis=1, raw=True)\n",
    "\n",
    "plt.figure(figsize=(15, 5))\n",
    "plt.hist(TRAIN_tfidf_word_share_lemmatized_filtered[TRAIN.is_duplicate == 1], bins=20, color=('firebrick'), normed=True, alpha=0.6, label='Duplicate')\n",
    "plt.hist(TRAIN_tfidf_word_share_lemmatized_filtered[TRAIN.is_duplicate == 0], bins=20, color=('aquamarine'), normed=True, alpha=0.6, label='Non-Duplicate')\n",
    "plt.xlabel('Word Share (TF-IDF)')\n",
    "plt.ylabel('Number of Question Pairs')\n",
    "plt.title('Distribution of Question Pair Word Share (TF-IDF)')\n",
    "plt.legend()\n",
    "plt.show()\n",
    "\n",
    "TRAIN_tfidf_word_share_lemmatized_filtered.to_pickle('TRAIN_tfidf_word_share_lemmatized_filtered.pkl')\n",
    "\n",
    "del weights, TRAIN_tfidf_word_share_lemmatized_filtered"
   ]
  },
  {
   "cell_type": "code",
   "execution_count": 40,
   "metadata": {
    "collapsed": true,
    "deletable": true,
    "editable": true
   },
   "outputs": [],
   "source": [
    "# Combine metrics into single dataframe\n",
    "df = pd.DataFrame()\n",
    "df['pid'] = TRAIN_preprocessed_unstacked.pid\n",
    "df['base'] = pd.read_pickle('TRAIN_tfidf_word_share_base.pkl')\n",
    "df['filtered'] = pd.read_pickle('TRAIN_tfidf_word_share_filtered.pkl')\n",
    "df['stemmed'] = pd.read_pickle('TRAIN_tfidf_word_share_stemmed.pkl')\n",
    "df['stemmed_filtered'] = pd.read_pickle('TRAIN_tfidf_word_share_stemmed_filtered.pkl')\n",
    "df['lemmatized'] = pd.read_pickle('TRAIN_tfidf_word_share_lemmatized.pkl')\n",
    "df['lemmatized_filtered'] = pd.read_pickle('TRAIN_tfidf_word_share_lemmatized_filtered.pkl')\n",
    "df.to_pickle('TRAIN_tfidf_word_share.pkl')\n",
    "\n",
    "del df, TRAIN_preprocessed_unstacked"
   ]
  },
  {
   "cell_type": "code",
   "execution_count": 16,
   "metadata": {
    "collapsed": false,
    "deletable": true,
    "editable": true
   },
   "outputs": [],
   "source": [
    "del TRAIN_preprocessed_unstacked"
   ]
  },
  {
   "cell_type": "code",
   "execution_count": 17,
   "metadata": {
    "collapsed": false,
    "deletable": true,
    "editable": true
   },
   "outputs": [
    {
     "name": "stdout",
     "output_type": "stream",
     "text": [
      "Word Share Proportion\n",
      "---------------------\n",
      "Base:                          0.717529896461\n",
      "Filtered:                      0.743939809911\n",
      "Stemmed:                       0.713523771993\n",
      "Stemmed & Filtered:            0.737908827868\n",
      "Lemmatized:                    0.716489894896\n",
      "Lemmatized & Filtered:         0.743030404891\n",
      "\n",
      "TF-IDF Weighting\n",
      "----------------\n",
      "Base:                          0.740072079517\n",
      "Filtered:                      0.741688823416\n",
      "Stemmed:                       0.735719806883\n",
      "Stemmed & Filtered:            0.739308876228\n",
      "Lemmatized:                    0.739323070552\n",
      "Lemmatized & Filtered:         0.742681743386\n"
     ]
    }
   ],
   "source": [
    "TRAIN_word_share = pd.read_pickle('TRAIN_word_share.pkl')\n",
    "TRAIN_tfidf_word_share = pd.read_pickle('TRAIN_tfidf_word_share.pkl')\n",
    "\n",
    "print('Word Share Proportion')\n",
    "print('---------------------')\n",
    "print('Base:'.ljust(30), roc_auc_score(TRAIN.is_duplicate, TRAIN_word_share.base))\n",
    "print('Filtered:'.ljust(30), roc_auc_score(TRAIN.is_duplicate, TRAIN_word_share.filtered))\n",
    "print('Stemmed:'.ljust(30), roc_auc_score(TRAIN.is_duplicate, TRAIN_word_share.stemmed))\n",
    "print('Stemmed & Filtered:'.ljust(30), roc_auc_score(TRAIN.is_duplicate, TRAIN_word_share.stemmed_filtered))\n",
    "print('Lemmatized:'.ljust(30), roc_auc_score(TRAIN.is_duplicate, TRAIN_word_share.lemmatized))\n",
    "print('Lemmatized & Filtered:'.ljust(30), roc_auc_score(TRAIN.is_duplicate, TRAIN_word_share.lemmatized_filtered))\n",
    "print('\\nTF-IDF Weighting')\n",
    "print('----------------')\n",
    "print('Base:'.ljust(30), roc_auc_score(TRAIN.is_duplicate, TRAIN_tfidf_word_share.base))\n",
    "print('Filtered:'.ljust(30), roc_auc_score(TRAIN.is_duplicate, TRAIN_tfidf_word_share.filtered))\n",
    "print('Stemmed:'.ljust(30), roc_auc_score(TRAIN.is_duplicate, TRAIN_tfidf_word_share.stemmed))\n",
    "print('Stemmed & Filtered:'.ljust(30), roc_auc_score(TRAIN.is_duplicate, TRAIN_tfidf_word_share.stemmed_filtered))\n",
    "print('Lemmatized:'.ljust(30), roc_auc_score(TRAIN.is_duplicate, TRAIN_tfidf_word_share.lemmatized))\n",
    "print('Lemmatized & Filtered:'.ljust(30), roc_auc_score(TRAIN.is_duplicate, TRAIN_tfidf_word_share.lemmatized_filtered))\n",
    "\n",
    "del TRAIN_word_share, TRAIN_tfidf_word_share"
   ]
  },
  {
   "cell_type": "code",
   "execution_count": 18,
   "metadata": {
    "collapsed": false,
    "deletable": true,
    "editable": true
   },
   "outputs": [
    {
     "name": "stderr",
     "output_type": "stream",
     "text": [
      "C:\\Users\\USER\\AppData\\Local\\Enthought\\Canopy\\edm\\envs\\User\\lib\\site-packages\\gensim\\models\\doc2vec.py:366: UserWarning: The parameter `size` is deprecated, will be removed in 4.0.0, use `vector_size` instead.\n",
      "  warnings.warn(\"The parameter `size` is deprecated, will be removed in 4.0.0, use `vector_size` instead.\")\n"
     ]
    },
    {
     "ename": "TypeError",
     "evalue": "build_vocab() missing 1 required positional argument: 'documents'",
     "output_type": "error",
     "traceback": [
      "\u001b[1;31m---------------------------------------------------------------------------\u001b[0m",
      "\u001b[1;31mTypeError\u001b[0m                                 Traceback (most recent call last)",
      "\u001b[1;32m<ipython-input-18-ea39a69f5ecf>\u001b[0m in \u001b[0;36m<module>\u001b[1;34m()\u001b[0m\n\u001b[0;32m     17\u001b[0m \u001b[1;33m\u001b[0m\u001b[0m\n\u001b[0;32m     18\u001b[0m \u001b[1;31m# Build vocab table\u001b[0m\u001b[1;33m\u001b[0m\u001b[1;33m\u001b[0m\u001b[0m\n\u001b[1;32m---> 19\u001b[1;33m \u001b[0mtrain_model\u001b[0m\u001b[1;33m.\u001b[0m\u001b[0mbuild_vocab\u001b[0m\u001b[1;33m(\u001b[0m\u001b[0msentences\u001b[0m\u001b[1;33m=\u001b[0m\u001b[0mdoc_list\u001b[0m\u001b[1;33m)\u001b[0m\u001b[1;33m\u001b[0m\u001b[0m\n\u001b[0m\u001b[0;32m     20\u001b[0m \u001b[1;33m\u001b[0m\u001b[0m\n\u001b[0;32m     21\u001b[0m \u001b[1;31m# Get pretrained word2vec weights where possible\u001b[0m\u001b[1;33m\u001b[0m\u001b[1;33m\u001b[0m\u001b[0m\n",
      "\u001b[1;31mTypeError\u001b[0m: build_vocab() missing 1 required positional argument: 'documents'"
     ]
    }
   ],
   "source": [
    "# Multicore\n",
    "cores = mp.cpu_count() - 1\n",
    "assert d2v.FAST_VERSION > -1, \"Doc2Vec will run painfully slow otherwise\"\n",
    "\n",
    "# Get doc list\n",
    "tagged_docs = pd.read_pickle('TRAIN_tagged.pkl')\n",
    "doc_list = tagged_docs.lemmatized_filtered.tolist()\n",
    "\n",
    "# Build Model: PV-DM w/average\n",
    "dmm_model = d2v.Doc2Vec(dm=1, dm_mean=1, size=300, window=5, negative=5, hs=0, min_count=2, workers=cores)\n",
    "\n",
    "train_model = dmm_model\n",
    "\n",
    "# Train model\n",
    "alpha, min_alpha, passes = (0.025, 0.001, 10)\n",
    "alpha_delta = (alpha - min_alpha) / passes\n",
    "\n",
    "# Build vocab table\n",
    "train_model.build_vocab(doc_list)\n",
    "\n",
    "# Get pretrained word2vec weights where possible\n",
    "train_model.intersect_word2vec_format('./word2vec.gi/GoogleNews-vectors-negative300.bin', binary=True)\n",
    "\n",
    "print(\"START %s\" % dt.datetime.now())\n",
    "\n",
    "for epoch in range(passes):\n",
    "    # shuffling gets best results\n",
    "    shuffle(doc_list)\n",
    "\n",
    "    print ('Training epoch %s' % epoch)\n",
    "\n",
    "    # train\n",
    "    train_model.alpha, train_model.min_alpha = alpha, alpha\n",
    "    train_model.train(doc_list)\n",
    "\n",
    "    print('completed pass %i at alpha %f' % (epoch + 1, alpha))\n",
    "    print(str(dt.datetime.now()))\n",
    "    \n",
    "    alpha -= alpha_delta\n",
    "\n",
    "train_model.save('dmm_model_lemmatized_filtered_word2vec_size300_iter10')\n",
    "\n",
    "print(\"END %s\" % str(dt.datetime.now()))\n",
    "\n",
    "del cores, tagged_docs, dmm_model, doc_list, alpha, min_alpha, passes, alpha_delta, train_model"
   ]
  },
  {
   "cell_type": "code",
   "execution_count": 20,
   "metadata": {
    "collapsed": false,
    "deletable": true,
    "editable": true
   },
   "outputs": [
    {
     "ename": "RuntimeError",
     "evalue": "cannot sort vocabulary after model weights already initialized.",
     "output_type": "error",
     "traceback": [
      "\u001b[1;31m---------------------------------------------------------------------------\u001b[0m",
      "\u001b[1;31mRuntimeError\u001b[0m                              Traceback (most recent call last)",
      "\u001b[1;32m<ipython-input-20-5b1addbbc2c5>\u001b[0m in \u001b[0;36m<module>\u001b[1;34m()\u001b[0m\n\u001b[0;32m      1\u001b[0m \u001b[1;31m# Build vocab table\u001b[0m\u001b[1;33m\u001b[0m\u001b[1;33m\u001b[0m\u001b[0m\n\u001b[1;32m----> 2\u001b[1;33m \u001b[0mtrain_model\u001b[0m\u001b[1;33m.\u001b[0m\u001b[0mbuild_vocab\u001b[0m\u001b[1;33m(\u001b[0m\u001b[0mdoc_list\u001b[0m\u001b[1;33m)\u001b[0m\u001b[1;33m\u001b[0m\u001b[0m\n\u001b[0m\u001b[0;32m      3\u001b[0m \u001b[1;33m\u001b[0m\u001b[0m\n\u001b[0;32m      4\u001b[0m \u001b[1;31m# Get pretrained word2vec weights where possible\u001b[0m\u001b[1;33m\u001b[0m\u001b[1;33m\u001b[0m\u001b[0m\n\u001b[0;32m      5\u001b[0m \u001b[0mtrain_model\u001b[0m\u001b[1;33m.\u001b[0m\u001b[0mintersect_word2vec_format\u001b[0m\u001b[1;33m(\u001b[0m\u001b[1;34m'GoogleNews-vectors-negative300.bin'\u001b[0m\u001b[1;33m,\u001b[0m \u001b[0mbinary\u001b[0m\u001b[1;33m=\u001b[0m\u001b[1;32mTrue\u001b[0m\u001b[1;33m)\u001b[0m\u001b[1;33m\u001b[0m\u001b[0m\n",
      "\u001b[1;32mC:\\Users\\USER\\AppData\\Local\\Enthought\\Canopy\\edm\\envs\\User\\lib\\site-packages\\gensim\\models\\doc2vec.py\u001b[0m in \u001b[0;36mbuild_vocab\u001b[1;34m(self, documents, update, progress_per, keep_raw_vocab, trim_rule, **kwargs)\u001b[0m\n\u001b[0;32m    731\u001b[0m         report_values = self.vocabulary.prepare_vocab(\n\u001b[0;32m    732\u001b[0m             \u001b[0mself\u001b[0m\u001b[1;33m.\u001b[0m\u001b[0mhs\u001b[0m\u001b[1;33m,\u001b[0m \u001b[0mself\u001b[0m\u001b[1;33m.\u001b[0m\u001b[0mnegative\u001b[0m\u001b[1;33m,\u001b[0m \u001b[0mself\u001b[0m\u001b[1;33m.\u001b[0m\u001b[0mwv\u001b[0m\u001b[1;33m,\u001b[0m \u001b[0mupdate\u001b[0m\u001b[1;33m=\u001b[0m\u001b[0mupdate\u001b[0m\u001b[1;33m,\u001b[0m \u001b[0mkeep_raw_vocab\u001b[0m\u001b[1;33m=\u001b[0m\u001b[0mkeep_raw_vocab\u001b[0m\u001b[1;33m,\u001b[0m \u001b[0mtrim_rule\u001b[0m\u001b[1;33m=\u001b[0m\u001b[0mtrim_rule\u001b[0m\u001b[1;33m,\u001b[0m\u001b[1;33m\u001b[0m\u001b[0m\n\u001b[1;32m--> 733\u001b[1;33m             **kwargs)\n\u001b[0m\u001b[0;32m    734\u001b[0m \u001b[1;33m\u001b[0m\u001b[0m\n\u001b[0;32m    735\u001b[0m         \u001b[0mreport_values\u001b[0m\u001b[1;33m[\u001b[0m\u001b[1;34m'memory'\u001b[0m\u001b[1;33m]\u001b[0m \u001b[1;33m=\u001b[0m \u001b[0mself\u001b[0m\u001b[1;33m.\u001b[0m\u001b[0mestimate_memory\u001b[0m\u001b[1;33m(\u001b[0m\u001b[0mvocab_size\u001b[0m\u001b[1;33m=\u001b[0m\u001b[0mreport_values\u001b[0m\u001b[1;33m[\u001b[0m\u001b[1;34m'num_retained_words'\u001b[0m\u001b[1;33m]\u001b[0m\u001b[1;33m)\u001b[0m\u001b[1;33m\u001b[0m\u001b[0m\n",
      "\u001b[1;32mC:\\Users\\USER\\AppData\\Local\\Enthought\\Canopy\\edm\\envs\\User\\lib\\site-packages\\gensim\\models\\word2vec.py\u001b[0m in \u001b[0;36mprepare_vocab\u001b[1;34m(self, hs, negative, wv, update, keep_raw_vocab, trim_rule, min_count, sample, dry_run)\u001b[0m\n\u001b[0;32m   1316\u001b[0m \u001b[1;33m\u001b[0m\u001b[0m\n\u001b[0;32m   1317\u001b[0m         \u001b[1;32mif\u001b[0m \u001b[0mself\u001b[0m\u001b[1;33m.\u001b[0m\u001b[0msorted_vocab\u001b[0m \u001b[1;32mand\u001b[0m \u001b[1;32mnot\u001b[0m \u001b[0mupdate\u001b[0m\u001b[1;33m:\u001b[0m\u001b[1;33m\u001b[0m\u001b[0m\n\u001b[1;32m-> 1318\u001b[1;33m             \u001b[0mself\u001b[0m\u001b[1;33m.\u001b[0m\u001b[0msort_vocab\u001b[0m\u001b[1;33m(\u001b[0m\u001b[0mwv\u001b[0m\u001b[1;33m)\u001b[0m\u001b[1;33m\u001b[0m\u001b[0m\n\u001b[0m\u001b[0;32m   1319\u001b[0m         \u001b[1;32mif\u001b[0m \u001b[0mhs\u001b[0m\u001b[1;33m:\u001b[0m\u001b[1;33m\u001b[0m\u001b[0m\n\u001b[0;32m   1320\u001b[0m             \u001b[1;31m# add info about each word's Huffman encoding\u001b[0m\u001b[1;33m\u001b[0m\u001b[1;33m\u001b[0m\u001b[0m\n",
      "\u001b[1;32mC:\\Users\\USER\\AppData\\Local\\Enthought\\Canopy\\edm\\envs\\User\\lib\\site-packages\\gensim\\models\\word2vec.py\u001b[0m in \u001b[0;36msort_vocab\u001b[1;34m(self, wv)\u001b[0m\n\u001b[0;32m   1182\u001b[0m         \u001b[1;34m\"\"\"Sort the vocabulary so the most frequent words have the lowest indexes.\"\"\"\u001b[0m\u001b[1;33m\u001b[0m\u001b[0m\n\u001b[0;32m   1183\u001b[0m         \u001b[1;32mif\u001b[0m \u001b[0mlen\u001b[0m\u001b[1;33m(\u001b[0m\u001b[0mwv\u001b[0m\u001b[1;33m.\u001b[0m\u001b[0mvectors\u001b[0m\u001b[1;33m)\u001b[0m\u001b[1;33m:\u001b[0m\u001b[1;33m\u001b[0m\u001b[0m\n\u001b[1;32m-> 1184\u001b[1;33m             \u001b[1;32mraise\u001b[0m \u001b[0mRuntimeError\u001b[0m\u001b[1;33m(\u001b[0m\u001b[1;34m\"cannot sort vocabulary after model weights already initialized.\"\u001b[0m\u001b[1;33m)\u001b[0m\u001b[1;33m\u001b[0m\u001b[0m\n\u001b[0m\u001b[0;32m   1185\u001b[0m         \u001b[0mwv\u001b[0m\u001b[1;33m.\u001b[0m\u001b[0mindex2word\u001b[0m\u001b[1;33m.\u001b[0m\u001b[0msort\u001b[0m\u001b[1;33m(\u001b[0m\u001b[0mkey\u001b[0m\u001b[1;33m=\u001b[0m\u001b[1;32mlambda\u001b[0m \u001b[0mword\u001b[0m\u001b[1;33m:\u001b[0m \u001b[0mwv\u001b[0m\u001b[1;33m.\u001b[0m\u001b[0mvocab\u001b[0m\u001b[1;33m[\u001b[0m\u001b[0mword\u001b[0m\u001b[1;33m]\u001b[0m\u001b[1;33m.\u001b[0m\u001b[0mcount\u001b[0m\u001b[1;33m,\u001b[0m \u001b[0mreverse\u001b[0m\u001b[1;33m=\u001b[0m\u001b[1;32mTrue\u001b[0m\u001b[1;33m)\u001b[0m\u001b[1;33m\u001b[0m\u001b[0m\n\u001b[0;32m   1186\u001b[0m         \u001b[1;32mfor\u001b[0m \u001b[0mi\u001b[0m\u001b[1;33m,\u001b[0m \u001b[0mword\u001b[0m \u001b[1;32min\u001b[0m \u001b[0menumerate\u001b[0m\u001b[1;33m(\u001b[0m\u001b[0mwv\u001b[0m\u001b[1;33m.\u001b[0m\u001b[0mindex2word\u001b[0m\u001b[1;33m)\u001b[0m\u001b[1;33m:\u001b[0m\u001b[1;33m\u001b[0m\u001b[0m\n",
      "\u001b[1;31mRuntimeError\u001b[0m: cannot sort vocabulary after model weights already initialized."
     ]
    }
   ],
   "source": [
    "# Build vocab table\n",
    "train_model.build_vocab(doc_list)\n",
    "\n",
    "# Get pretrained word2vec weights where possible\n",
    "train_model.intersect_word2vec_format('./word2vec.gi/GoogleNews-vectors-negative300.bin', binary=True)\n",
    "\n",
    "print(\"START %s\" % dt.datetime.now())\n",
    "\n",
    "for epoch in range(passes):\n",
    "    # shuffling gets best results\n",
    "    shuffle(doc_list)\n",
    "\n",
    "    print ('Training epoch %s' % epoch)\n",
    "\n",
    "    # train\n",
    "    train_model.alpha, train_model.min_alpha = alpha, alpha\n",
    "    train_model.train(doc_list)\n",
    "\n",
    "    print('completed pass %i at alpha %f' % (epoch + 1, alpha))\n",
    "    print(str(dt.datetime.now()))\n",
    "    \n",
    "    alpha -= alpha_delta\n",
    "\n",
    "train_model.save('./models.gi/dmm_model_lemmatized_filtered_word2vec_size300_iter10')\n",
    "\n",
    "print(\"END %s\" % str(dt.datetime.now()))\n",
    "\n",
    "del cores, tagged_docs, dmm_model, doc_list, alpha, min_alpha, passes, alpha_delta, train_model"
   ]
  },
  {
   "cell_type": "code",
   "execution_count": 44,
   "metadata": {
    "collapsed": false,
    "deletable": true,
    "editable": true
   },
   "outputs": [
    {
     "ename": "FileNotFoundError",
     "evalue": "[Errno 2] No such file or directory: 'TRAIN_d2v_cos_sim.pkl'",
     "output_type": "error",
     "traceback": [
      "\u001b[1;31m---------------------------------------------------------------------------\u001b[0m",
      "\u001b[1;31mFileNotFoundError\u001b[0m                         Traceback (most recent call last)",
      "\u001b[1;32mC:\\Users\\USER\\AppData\\Local\\Enthought\\Canopy\\edm\\envs\\User\\lib\\site-packages\\pandas\\io\\pickle.py\u001b[0m in \u001b[0;36mtry_read\u001b[1;34m(path, encoding)\u001b[0m\n\u001b[0;32m     82\u001b[0m         \u001b[1;32mtry\u001b[0m\u001b[1;33m:\u001b[0m\u001b[1;33m\u001b[0m\u001b[0m\n\u001b[1;32m---> 83\u001b[1;33m             \u001b[1;32mreturn\u001b[0m \u001b[0mread_wrapper\u001b[0m\u001b[1;33m(\u001b[0m\u001b[1;32mlambda\u001b[0m \u001b[0mf\u001b[0m\u001b[1;33m:\u001b[0m \u001b[0mpkl\u001b[0m\u001b[1;33m.\u001b[0m\u001b[0mload\u001b[0m\u001b[1;33m(\u001b[0m\u001b[0mf\u001b[0m\u001b[1;33m)\u001b[0m\u001b[1;33m)\u001b[0m\u001b[1;33m\u001b[0m\u001b[0m\n\u001b[0m\u001b[0;32m     84\u001b[0m         \u001b[1;32mexcept\u001b[0m \u001b[0mException\u001b[0m\u001b[1;33m:\u001b[0m\u001b[1;33m\u001b[0m\u001b[0m\n",
      "\u001b[1;32mC:\\Users\\USER\\AppData\\Local\\Enthought\\Canopy\\edm\\envs\\User\\lib\\site-packages\\pandas\\io\\pickle.py\u001b[0m in \u001b[0;36mread_wrapper\u001b[1;34m(func)\u001b[0m\n\u001b[0;32m     65\u001b[0m                             \u001b[0mcompression\u001b[0m\u001b[1;33m=\u001b[0m\u001b[0minferred_compression\u001b[0m\u001b[1;33m,\u001b[0m\u001b[1;33m\u001b[0m\u001b[0m\n\u001b[1;32m---> 66\u001b[1;33m                             is_text=False)\n\u001b[0m\u001b[0;32m     67\u001b[0m         \u001b[1;32mtry\u001b[0m\u001b[1;33m:\u001b[0m\u001b[1;33m\u001b[0m\u001b[0m\n",
      "\u001b[1;32mC:\\Users\\USER\\AppData\\Local\\Enthought\\Canopy\\edm\\envs\\User\\lib\\site-packages\\pandas\\io\\common.py\u001b[0m in \u001b[0;36m_get_handle\u001b[1;34m(path_or_buf, mode, encoding, compression, memory_map, is_text)\u001b[0m\n\u001b[0;32m    387\u001b[0m             \u001b[1;31m# Python 3 and binary mode\u001b[0m\u001b[1;33m\u001b[0m\u001b[1;33m\u001b[0m\u001b[0m\n\u001b[1;32m--> 388\u001b[1;33m             \u001b[0mf\u001b[0m \u001b[1;33m=\u001b[0m \u001b[0mopen\u001b[0m\u001b[1;33m(\u001b[0m\u001b[0mpath_or_buf\u001b[0m\u001b[1;33m,\u001b[0m \u001b[0mmode\u001b[0m\u001b[1;33m)\u001b[0m\u001b[1;33m\u001b[0m\u001b[0m\n\u001b[0m\u001b[0;32m    389\u001b[0m         \u001b[0mhandles\u001b[0m\u001b[1;33m.\u001b[0m\u001b[0mappend\u001b[0m\u001b[1;33m(\u001b[0m\u001b[0mf\u001b[0m\u001b[1;33m)\u001b[0m\u001b[1;33m\u001b[0m\u001b[0m\n",
      "\u001b[1;31mFileNotFoundError\u001b[0m: [Errno 2] No such file or directory: 'TRAIN_d2v_cos_sim.pkl'",
      "\nDuring handling of the above exception, another exception occurred:\n",
      "\u001b[1;31mFileNotFoundError\u001b[0m                         Traceback (most recent call last)",
      "\u001b[1;32mC:\\Users\\USER\\AppData\\Local\\Enthought\\Canopy\\edm\\envs\\User\\lib\\site-packages\\pandas\\io\\pickle.py\u001b[0m in \u001b[0;36mtry_read\u001b[1;34m(path, encoding)\u001b[0m\n\u001b[0;32m     87\u001b[0m                 return read_wrapper(\n\u001b[1;32m---> 88\u001b[1;33m                     lambda f: pc.load(f, encoding=encoding, compat=False))\n\u001b[0m\u001b[0;32m     89\u001b[0m             \u001b[1;31m# compat pickle\u001b[0m\u001b[1;33m\u001b[0m\u001b[1;33m\u001b[0m\u001b[0m\n",
      "\u001b[1;32mC:\\Users\\USER\\AppData\\Local\\Enthought\\Canopy\\edm\\envs\\User\\lib\\site-packages\\pandas\\io\\pickle.py\u001b[0m in \u001b[0;36mread_wrapper\u001b[1;34m(func)\u001b[0m\n\u001b[0;32m     65\u001b[0m                             \u001b[0mcompression\u001b[0m\u001b[1;33m=\u001b[0m\u001b[0minferred_compression\u001b[0m\u001b[1;33m,\u001b[0m\u001b[1;33m\u001b[0m\u001b[0m\n\u001b[1;32m---> 66\u001b[1;33m                             is_text=False)\n\u001b[0m\u001b[0;32m     67\u001b[0m         \u001b[1;32mtry\u001b[0m\u001b[1;33m:\u001b[0m\u001b[1;33m\u001b[0m\u001b[0m\n",
      "\u001b[1;32mC:\\Users\\USER\\AppData\\Local\\Enthought\\Canopy\\edm\\envs\\User\\lib\\site-packages\\pandas\\io\\common.py\u001b[0m in \u001b[0;36m_get_handle\u001b[1;34m(path_or_buf, mode, encoding, compression, memory_map, is_text)\u001b[0m\n\u001b[0;32m    387\u001b[0m             \u001b[1;31m# Python 3 and binary mode\u001b[0m\u001b[1;33m\u001b[0m\u001b[1;33m\u001b[0m\u001b[0m\n\u001b[1;32m--> 388\u001b[1;33m             \u001b[0mf\u001b[0m \u001b[1;33m=\u001b[0m \u001b[0mopen\u001b[0m\u001b[1;33m(\u001b[0m\u001b[0mpath_or_buf\u001b[0m\u001b[1;33m,\u001b[0m \u001b[0mmode\u001b[0m\u001b[1;33m)\u001b[0m\u001b[1;33m\u001b[0m\u001b[0m\n\u001b[0m\u001b[0;32m    389\u001b[0m         \u001b[0mhandles\u001b[0m\u001b[1;33m.\u001b[0m\u001b[0mappend\u001b[0m\u001b[1;33m(\u001b[0m\u001b[0mf\u001b[0m\u001b[1;33m)\u001b[0m\u001b[1;33m\u001b[0m\u001b[0m\n",
      "\u001b[1;31mFileNotFoundError\u001b[0m: [Errno 2] No such file or directory: 'TRAIN_d2v_cos_sim.pkl'",
      "\nDuring handling of the above exception, another exception occurred:\n",
      "\u001b[1;31mFileNotFoundError\u001b[0m                         Traceback (most recent call last)",
      "\u001b[1;32mC:\\Users\\USER\\AppData\\Local\\Enthought\\Canopy\\edm\\envs\\User\\lib\\site-packages\\pandas\\io\\pickle.py\u001b[0m in \u001b[0;36mread_pickle\u001b[1;34m(path, compression)\u001b[0m\n\u001b[0;32m     93\u001b[0m     \u001b[1;32mtry\u001b[0m\u001b[1;33m:\u001b[0m\u001b[1;33m\u001b[0m\u001b[0m\n\u001b[1;32m---> 94\u001b[1;33m         \u001b[1;32mreturn\u001b[0m \u001b[0mtry_read\u001b[0m\u001b[1;33m(\u001b[0m\u001b[0mpath\u001b[0m\u001b[1;33m)\u001b[0m\u001b[1;33m\u001b[0m\u001b[0m\n\u001b[0m\u001b[0;32m     95\u001b[0m     \u001b[1;32mexcept\u001b[0m\u001b[1;33m:\u001b[0m\u001b[1;33m\u001b[0m\u001b[0m\n",
      "\u001b[1;32mC:\\Users\\USER\\AppData\\Local\\Enthought\\Canopy\\edm\\envs\\User\\lib\\site-packages\\pandas\\io\\pickle.py\u001b[0m in \u001b[0;36mtry_read\u001b[1;34m(path, encoding)\u001b[0m\n\u001b[0;32m     91\u001b[0m                 return read_wrapper(\n\u001b[1;32m---> 92\u001b[1;33m                     lambda f: pc.load(f, encoding=encoding, compat=True))\n\u001b[0m\u001b[0;32m     93\u001b[0m     \u001b[1;32mtry\u001b[0m\u001b[1;33m:\u001b[0m\u001b[1;33m\u001b[0m\u001b[0m\n",
      "\u001b[1;32mC:\\Users\\USER\\AppData\\Local\\Enthought\\Canopy\\edm\\envs\\User\\lib\\site-packages\\pandas\\io\\pickle.py\u001b[0m in \u001b[0;36mread_wrapper\u001b[1;34m(func)\u001b[0m\n\u001b[0;32m     65\u001b[0m                             \u001b[0mcompression\u001b[0m\u001b[1;33m=\u001b[0m\u001b[0minferred_compression\u001b[0m\u001b[1;33m,\u001b[0m\u001b[1;33m\u001b[0m\u001b[0m\n\u001b[1;32m---> 66\u001b[1;33m                             is_text=False)\n\u001b[0m\u001b[0;32m     67\u001b[0m         \u001b[1;32mtry\u001b[0m\u001b[1;33m:\u001b[0m\u001b[1;33m\u001b[0m\u001b[0m\n",
      "\u001b[1;32mC:\\Users\\USER\\AppData\\Local\\Enthought\\Canopy\\edm\\envs\\User\\lib\\site-packages\\pandas\\io\\common.py\u001b[0m in \u001b[0;36m_get_handle\u001b[1;34m(path_or_buf, mode, encoding, compression, memory_map, is_text)\u001b[0m\n\u001b[0;32m    387\u001b[0m             \u001b[1;31m# Python 3 and binary mode\u001b[0m\u001b[1;33m\u001b[0m\u001b[1;33m\u001b[0m\u001b[0m\n\u001b[1;32m--> 388\u001b[1;33m             \u001b[0mf\u001b[0m \u001b[1;33m=\u001b[0m \u001b[0mopen\u001b[0m\u001b[1;33m(\u001b[0m\u001b[0mpath_or_buf\u001b[0m\u001b[1;33m,\u001b[0m \u001b[0mmode\u001b[0m\u001b[1;33m)\u001b[0m\u001b[1;33m\u001b[0m\u001b[0m\n\u001b[0m\u001b[0;32m    389\u001b[0m         \u001b[0mhandles\u001b[0m\u001b[1;33m.\u001b[0m\u001b[0mappend\u001b[0m\u001b[1;33m(\u001b[0m\u001b[0mf\u001b[0m\u001b[1;33m)\u001b[0m\u001b[1;33m\u001b[0m\u001b[0m\n",
      "\u001b[1;31mFileNotFoundError\u001b[0m: [Errno 2] No such file or directory: 'TRAIN_d2v_cos_sim.pkl'",
      "\nDuring handling of the above exception, another exception occurred:\n",
      "\u001b[1;31mFileNotFoundError\u001b[0m                         Traceback (most recent call last)",
      "\u001b[1;32mC:\\Users\\USER\\AppData\\Local\\Enthought\\Canopy\\edm\\envs\\User\\lib\\site-packages\\pandas\\io\\pickle.py\u001b[0m in \u001b[0;36mtry_read\u001b[1;34m(path, encoding)\u001b[0m\n\u001b[0;32m     82\u001b[0m         \u001b[1;32mtry\u001b[0m\u001b[1;33m:\u001b[0m\u001b[1;33m\u001b[0m\u001b[0m\n\u001b[1;32m---> 83\u001b[1;33m             \u001b[1;32mreturn\u001b[0m \u001b[0mread_wrapper\u001b[0m\u001b[1;33m(\u001b[0m\u001b[1;32mlambda\u001b[0m \u001b[0mf\u001b[0m\u001b[1;33m:\u001b[0m \u001b[0mpkl\u001b[0m\u001b[1;33m.\u001b[0m\u001b[0mload\u001b[0m\u001b[1;33m(\u001b[0m\u001b[0mf\u001b[0m\u001b[1;33m)\u001b[0m\u001b[1;33m)\u001b[0m\u001b[1;33m\u001b[0m\u001b[0m\n\u001b[0m\u001b[0;32m     84\u001b[0m         \u001b[1;32mexcept\u001b[0m \u001b[0mException\u001b[0m\u001b[1;33m:\u001b[0m\u001b[1;33m\u001b[0m\u001b[0m\n",
      "\u001b[1;32mC:\\Users\\USER\\AppData\\Local\\Enthought\\Canopy\\edm\\envs\\User\\lib\\site-packages\\pandas\\io\\pickle.py\u001b[0m in \u001b[0;36mread_wrapper\u001b[1;34m(func)\u001b[0m\n\u001b[0;32m     65\u001b[0m                             \u001b[0mcompression\u001b[0m\u001b[1;33m=\u001b[0m\u001b[0minferred_compression\u001b[0m\u001b[1;33m,\u001b[0m\u001b[1;33m\u001b[0m\u001b[0m\n\u001b[1;32m---> 66\u001b[1;33m                             is_text=False)\n\u001b[0m\u001b[0;32m     67\u001b[0m         \u001b[1;32mtry\u001b[0m\u001b[1;33m:\u001b[0m\u001b[1;33m\u001b[0m\u001b[0m\n",
      "\u001b[1;32mC:\\Users\\USER\\AppData\\Local\\Enthought\\Canopy\\edm\\envs\\User\\lib\\site-packages\\pandas\\io\\common.py\u001b[0m in \u001b[0;36m_get_handle\u001b[1;34m(path_or_buf, mode, encoding, compression, memory_map, is_text)\u001b[0m\n\u001b[0;32m    387\u001b[0m             \u001b[1;31m# Python 3 and binary mode\u001b[0m\u001b[1;33m\u001b[0m\u001b[1;33m\u001b[0m\u001b[0m\n\u001b[1;32m--> 388\u001b[1;33m             \u001b[0mf\u001b[0m \u001b[1;33m=\u001b[0m \u001b[0mopen\u001b[0m\u001b[1;33m(\u001b[0m\u001b[0mpath_or_buf\u001b[0m\u001b[1;33m,\u001b[0m \u001b[0mmode\u001b[0m\u001b[1;33m)\u001b[0m\u001b[1;33m\u001b[0m\u001b[0m\n\u001b[0m\u001b[0;32m    389\u001b[0m         \u001b[0mhandles\u001b[0m\u001b[1;33m.\u001b[0m\u001b[0mappend\u001b[0m\u001b[1;33m(\u001b[0m\u001b[0mf\u001b[0m\u001b[1;33m)\u001b[0m\u001b[1;33m\u001b[0m\u001b[0m\n",
      "\u001b[1;31mFileNotFoundError\u001b[0m: [Errno 2] No such file or directory: 'TRAIN_d2v_cos_sim.pkl'",
      "\nDuring handling of the above exception, another exception occurred:\n",
      "\u001b[1;31mFileNotFoundError\u001b[0m                         Traceback (most recent call last)",
      "\u001b[1;32mC:\\Users\\USER\\AppData\\Local\\Enthought\\Canopy\\edm\\envs\\User\\lib\\site-packages\\pandas\\io\\pickle.py\u001b[0m in \u001b[0;36mtry_read\u001b[1;34m(path, encoding)\u001b[0m\n\u001b[0;32m     87\u001b[0m                 return read_wrapper(\n\u001b[1;32m---> 88\u001b[1;33m                     lambda f: pc.load(f, encoding=encoding, compat=False))\n\u001b[0m\u001b[0;32m     89\u001b[0m             \u001b[1;31m# compat pickle\u001b[0m\u001b[1;33m\u001b[0m\u001b[1;33m\u001b[0m\u001b[0m\n",
      "\u001b[1;32mC:\\Users\\USER\\AppData\\Local\\Enthought\\Canopy\\edm\\envs\\User\\lib\\site-packages\\pandas\\io\\pickle.py\u001b[0m in \u001b[0;36mread_wrapper\u001b[1;34m(func)\u001b[0m\n\u001b[0;32m     65\u001b[0m                             \u001b[0mcompression\u001b[0m\u001b[1;33m=\u001b[0m\u001b[0minferred_compression\u001b[0m\u001b[1;33m,\u001b[0m\u001b[1;33m\u001b[0m\u001b[0m\n\u001b[1;32m---> 66\u001b[1;33m                             is_text=False)\n\u001b[0m\u001b[0;32m     67\u001b[0m         \u001b[1;32mtry\u001b[0m\u001b[1;33m:\u001b[0m\u001b[1;33m\u001b[0m\u001b[0m\n",
      "\u001b[1;32mC:\\Users\\USER\\AppData\\Local\\Enthought\\Canopy\\edm\\envs\\User\\lib\\site-packages\\pandas\\io\\common.py\u001b[0m in \u001b[0;36m_get_handle\u001b[1;34m(path_or_buf, mode, encoding, compression, memory_map, is_text)\u001b[0m\n\u001b[0;32m    387\u001b[0m             \u001b[1;31m# Python 3 and binary mode\u001b[0m\u001b[1;33m\u001b[0m\u001b[1;33m\u001b[0m\u001b[0m\n\u001b[1;32m--> 388\u001b[1;33m             \u001b[0mf\u001b[0m \u001b[1;33m=\u001b[0m \u001b[0mopen\u001b[0m\u001b[1;33m(\u001b[0m\u001b[0mpath_or_buf\u001b[0m\u001b[1;33m,\u001b[0m \u001b[0mmode\u001b[0m\u001b[1;33m)\u001b[0m\u001b[1;33m\u001b[0m\u001b[0m\n\u001b[0m\u001b[0;32m    389\u001b[0m         \u001b[0mhandles\u001b[0m\u001b[1;33m.\u001b[0m\u001b[0mappend\u001b[0m\u001b[1;33m(\u001b[0m\u001b[0mf\u001b[0m\u001b[1;33m)\u001b[0m\u001b[1;33m\u001b[0m\u001b[0m\n",
      "\u001b[1;31mFileNotFoundError\u001b[0m: [Errno 2] No such file or directory: 'TRAIN_d2v_cos_sim.pkl'",
      "\nDuring handling of the above exception, another exception occurred:\n",
      "\u001b[1;31mFileNotFoundError\u001b[0m                         Traceback (most recent call last)",
      "\u001b[1;32m<ipython-input-44-620e7fc2b185>\u001b[0m in \u001b[0;36m<module>\u001b[1;34m()\u001b[0m\n\u001b[0;32m      1\u001b[0m \u001b[0mTRAIN_word_share\u001b[0m \u001b[1;33m=\u001b[0m \u001b[0mpd\u001b[0m\u001b[1;33m.\u001b[0m\u001b[0mread_pickle\u001b[0m\u001b[1;33m(\u001b[0m\u001b[1;34m'TRAIN_word_share.pkl'\u001b[0m\u001b[1;33m)\u001b[0m\u001b[1;33m\u001b[0m\u001b[0m\n\u001b[0;32m      2\u001b[0m \u001b[0mTRAIN_tfidf_word_share\u001b[0m \u001b[1;33m=\u001b[0m \u001b[0mpd\u001b[0m\u001b[1;33m.\u001b[0m\u001b[0mread_pickle\u001b[0m\u001b[1;33m(\u001b[0m\u001b[1;34m'TRAIN_tfidf_word_share.pkl'\u001b[0m\u001b[1;33m)\u001b[0m\u001b[1;33m\u001b[0m\u001b[0m\n\u001b[1;32m----> 3\u001b[1;33m \u001b[0mTRAIN_d2v_cos_sim\u001b[0m \u001b[1;33m=\u001b[0m \u001b[0mpd\u001b[0m\u001b[1;33m.\u001b[0m\u001b[0mread_pickle\u001b[0m\u001b[1;33m(\u001b[0m\u001b[1;34m'TRAIN_d2v_cos_sim.pkl'\u001b[0m\u001b[1;33m)\u001b[0m\u001b[1;33m\u001b[0m\u001b[0m\n\u001b[0m\u001b[0;32m      4\u001b[0m \u001b[1;33m\u001b[0m\u001b[0m\n\u001b[0;32m      5\u001b[0m \u001b[0mX_train\u001b[0m \u001b[1;33m=\u001b[0m \u001b[0mpd\u001b[0m\u001b[1;33m.\u001b[0m\u001b[0mDataFrame\u001b[0m\u001b[1;33m(\u001b[0m\u001b[1;33m)\u001b[0m\u001b[1;33m\u001b[0m\u001b[0m\n",
      "\u001b[1;32mC:\\Users\\USER\\AppData\\Local\\Enthought\\Canopy\\edm\\envs\\User\\lib\\site-packages\\pandas\\io\\pickle.py\u001b[0m in \u001b[0;36mread_pickle\u001b[1;34m(path, compression)\u001b[0m\n\u001b[0;32m     95\u001b[0m     \u001b[1;32mexcept\u001b[0m\u001b[1;33m:\u001b[0m\u001b[1;33m\u001b[0m\u001b[0m\n\u001b[0;32m     96\u001b[0m         \u001b[1;32mif\u001b[0m \u001b[0mPY3\u001b[0m\u001b[1;33m:\u001b[0m\u001b[1;33m\u001b[0m\u001b[0m\n\u001b[1;32m---> 97\u001b[1;33m             \u001b[1;32mreturn\u001b[0m \u001b[0mtry_read\u001b[0m\u001b[1;33m(\u001b[0m\u001b[0mpath\u001b[0m\u001b[1;33m,\u001b[0m \u001b[0mencoding\u001b[0m\u001b[1;33m=\u001b[0m\u001b[1;34m'latin1'\u001b[0m\u001b[1;33m)\u001b[0m\u001b[1;33m\u001b[0m\u001b[0m\n\u001b[0m\u001b[0;32m     98\u001b[0m         \u001b[1;32mraise\u001b[0m\u001b[1;33m\u001b[0m\u001b[0m\n\u001b[0;32m     99\u001b[0m \u001b[1;33m\u001b[0m\u001b[0m\n",
      "\u001b[1;32mC:\\Users\\USER\\AppData\\Local\\Enthought\\Canopy\\edm\\envs\\User\\lib\\site-packages\\pandas\\io\\pickle.py\u001b[0m in \u001b[0;36mtry_read\u001b[1;34m(path, encoding)\u001b[0m\n\u001b[0;32m     90\u001b[0m             \u001b[1;32mexcept\u001b[0m\u001b[1;33m:\u001b[0m\u001b[1;33m\u001b[0m\u001b[0m\n\u001b[0;32m     91\u001b[0m                 return read_wrapper(\n\u001b[1;32m---> 92\u001b[1;33m                     lambda f: pc.load(f, encoding=encoding, compat=True))\n\u001b[0m\u001b[0;32m     93\u001b[0m     \u001b[1;32mtry\u001b[0m\u001b[1;33m:\u001b[0m\u001b[1;33m\u001b[0m\u001b[0m\n\u001b[0;32m     94\u001b[0m         \u001b[1;32mreturn\u001b[0m \u001b[0mtry_read\u001b[0m\u001b[1;33m(\u001b[0m\u001b[0mpath\u001b[0m\u001b[1;33m)\u001b[0m\u001b[1;33m\u001b[0m\u001b[0m\n",
      "\u001b[1;32mC:\\Users\\USER\\AppData\\Local\\Enthought\\Canopy\\edm\\envs\\User\\lib\\site-packages\\pandas\\io\\pickle.py\u001b[0m in \u001b[0;36mread_wrapper\u001b[1;34m(func)\u001b[0m\n\u001b[0;32m     64\u001b[0m         f, fh = _get_handle(path, 'rb',\n\u001b[0;32m     65\u001b[0m                             \u001b[0mcompression\u001b[0m\u001b[1;33m=\u001b[0m\u001b[0minferred_compression\u001b[0m\u001b[1;33m,\u001b[0m\u001b[1;33m\u001b[0m\u001b[0m\n\u001b[1;32m---> 66\u001b[1;33m                             is_text=False)\n\u001b[0m\u001b[0;32m     67\u001b[0m         \u001b[1;32mtry\u001b[0m\u001b[1;33m:\u001b[0m\u001b[1;33m\u001b[0m\u001b[0m\n\u001b[0;32m     68\u001b[0m             \u001b[1;32mreturn\u001b[0m \u001b[0mfunc\u001b[0m\u001b[1;33m(\u001b[0m\u001b[0mf\u001b[0m\u001b[1;33m)\u001b[0m\u001b[1;33m\u001b[0m\u001b[0m\n",
      "\u001b[1;32mC:\\Users\\USER\\AppData\\Local\\Enthought\\Canopy\\edm\\envs\\User\\lib\\site-packages\\pandas\\io\\common.py\u001b[0m in \u001b[0;36m_get_handle\u001b[1;34m(path_or_buf, mode, encoding, compression, memory_map, is_text)\u001b[0m\n\u001b[0;32m    386\u001b[0m         \u001b[1;32melse\u001b[0m\u001b[1;33m:\u001b[0m\u001b[1;33m\u001b[0m\u001b[0m\n\u001b[0;32m    387\u001b[0m             \u001b[1;31m# Python 3 and binary mode\u001b[0m\u001b[1;33m\u001b[0m\u001b[1;33m\u001b[0m\u001b[0m\n\u001b[1;32m--> 388\u001b[1;33m             \u001b[0mf\u001b[0m \u001b[1;33m=\u001b[0m \u001b[0mopen\u001b[0m\u001b[1;33m(\u001b[0m\u001b[0mpath_or_buf\u001b[0m\u001b[1;33m,\u001b[0m \u001b[0mmode\u001b[0m\u001b[1;33m)\u001b[0m\u001b[1;33m\u001b[0m\u001b[0m\n\u001b[0m\u001b[0;32m    389\u001b[0m         \u001b[0mhandles\u001b[0m\u001b[1;33m.\u001b[0m\u001b[0mappend\u001b[0m\u001b[1;33m(\u001b[0m\u001b[0mf\u001b[0m\u001b[1;33m)\u001b[0m\u001b[1;33m\u001b[0m\u001b[0m\n\u001b[0;32m    390\u001b[0m \u001b[1;33m\u001b[0m\u001b[0m\n",
      "\u001b[1;31mFileNotFoundError\u001b[0m: [Errno 2] No such file or directory: 'TRAIN_d2v_cos_sim.pkl'"
     ]
    }
   ],
   "source": [
    "TRAIN_word_share = pd.read_pickle('TRAIN_word_share.pkl')\n",
    "TRAIN_tfidf_word_share = pd.read_pickle('TRAIN_tfidf_word_share.pkl')\n",
    "TRAIN_d2v_cos_sim = pd.read_pickle('TRAIN_d2v_cos_sim.pkl')\n",
    "\n",
    "X_train = pd.DataFrame()\n",
    "X_train['word_share_base'] = TRAIN_word_share.base\n",
    "X_train['word_share_filtered'] = TRAIN_word_share.filtered\n",
    "X_train['word_share_stemmed'] = TRAIN_word_share.stemmed\n",
    "X_train['word_share_stemmed_filtered'] = TRAIN_word_share.stemmed_filtered\n",
    "X_train['word_share_lemmatized'] = TRAIN_word_share.lemmatized\n",
    "X_train['word_share_lemmatized_filtered'] = TRAIN_word_share.lemmatized\n",
    "X_train['tfidf_word_share_base'] = TRAIN_tfidf_word_share.base\n",
    "X_train['tfidf_word_share_filtered'] = TRAIN_tfidf_word_share.filtered\n",
    "X_train['tfidf_word_share_stemmed'] = TRAIN_tfidf_word_share.stemmed\n",
    "X_train['tfidf_word_share_stemmed_filtered'] = TRAIN_tfidf_word_share.stemmed_filtered\n",
    "X_train['tfidf_word_share_lemmatized'] = TRAIN_tfidf_word_share.lemmatized\n",
    "X_train['tfidf_word_share_lemmatized_filtered'] = TRAIN_tfidf_word_share.lemmatized_filtered\n",
    "X_train['d2v_cos_sim_lemmatized_filtered'] = TRAIN_d2v_cos_sim.lemmatized_filtered\n",
    "\n",
    "y_train = TRAIN.is_duplicate.values\n",
    "\n",
    "del TRAIN_word_share, TRAIN_tfidf_word_share, TRAIN_d2v_cos_sim"
   ]
  },
  {
   "cell_type": "code",
   "execution_count": 45,
   "metadata": {
    "collapsed": false,
    "deletable": true,
    "editable": true
   },
   "outputs": [
    {
     "ename": "NameError",
     "evalue": "name 'X_training' is not defined",
     "output_type": "error",
     "traceback": [
      "\u001b[1;31m---------------------------------------------------------------------------\u001b[0m",
      "\u001b[1;31mNameError\u001b[0m                                 Traceback (most recent call last)",
      "\u001b[1;32m<ipython-input-45-e5bb5742ce48>\u001b[0m in \u001b[0;36m<module>\u001b[1;34m()\u001b[0m\n\u001b[0;32m     15\u001b[0m \u001b[0mgrid_search\u001b[0m \u001b[1;33m=\u001b[0m \u001b[0mGridSearchCV\u001b[0m\u001b[1;33m(\u001b[0m\u001b[0mestimator\u001b[0m\u001b[1;33m=\u001b[0m\u001b[0mxgb_model\u001b[0m\u001b[1;33m,\u001b[0m \u001b[0mparam_grid\u001b[0m\u001b[1;33m=\u001b[0m\u001b[0mparams\u001b[0m\u001b[1;33m,\u001b[0m \u001b[0mscoring\u001b[0m\u001b[1;33m=\u001b[0m\u001b[1;34m'neg_log_loss'\u001b[0m\u001b[1;33m,\u001b[0m \u001b[0mcv\u001b[0m\u001b[1;33m=\u001b[0m\u001b[1;36m4\u001b[0m\u001b[1;33m,\u001b[0m \u001b[0mverbose\u001b[0m\u001b[1;33m=\u001b[0m\u001b[1;36m10\u001b[0m\u001b[1;33m)\u001b[0m\u001b[1;33m\u001b[0m\u001b[0m\n\u001b[0;32m     16\u001b[0m \u001b[1;33m\u001b[0m\u001b[0m\n\u001b[1;32m---> 17\u001b[1;33m \u001b[0mgrid_search\u001b[0m\u001b[1;33m.\u001b[0m\u001b[0mfit\u001b[0m\u001b[1;33m(\u001b[0m\u001b[0mX_training\u001b[0m\u001b[1;33m,\u001b[0m \u001b[0my_training\u001b[0m\u001b[1;33m)\u001b[0m\u001b[1;33m\u001b[0m\u001b[0m\n\u001b[0m\u001b[0;32m     18\u001b[0m \u001b[1;33m\u001b[0m\u001b[0m\n\u001b[0;32m     19\u001b[0m \u001b[0mgrid_search\u001b[0m\u001b[1;33m.\u001b[0m\u001b[0mgrid_scores_\u001b[0m\u001b[1;33m,\u001b[0m \u001b[0mgrid_search\u001b[0m\u001b[1;33m.\u001b[0m\u001b[0mbest_params_\u001b[0m\u001b[1;33m,\u001b[0m \u001b[0mgrid_search\u001b[0m\u001b[1;33m.\u001b[0m\u001b[0mbest_score_\u001b[0m\u001b[1;33m\u001b[0m\u001b[0m\n",
      "\u001b[1;31mNameError\u001b[0m: name 'X_training' is not defined"
     ]
    }
   ],
   "source": [
    "cores = mp.cpu_count() - 1\n",
    "\n",
    "params = {\n",
    "    'max_depth':range(3,10,2),\n",
    "    'min_child_weight':range(1,10,2)\n",
    "}\n",
    "\n",
    "xgb_model = xgb.XGBClassifier(\n",
    " learning_rate=0.1,\n",
    " n_estimators=1000,\n",
    " objective= 'binary:logistic',\n",
    " scale_pos_weight=1,\n",
    " seed=27)\n",
    "\n",
    "grid_search = GridSearchCV(estimator=xgb_model, param_grid=params, scoring='neg_log_loss', cv=4, verbose=10)\n",
    "\n",
    "grid_search.fit(X_training, y_training)\n",
    "\n",
    "grid_search.grid_scores_, grid_search.best_params_, grid_search.best_score_"
   ]
  },
  {
   "cell_type": "code",
   "execution_count": null,
   "metadata": {
    "collapsed": true,
    "deletable": true,
    "editable": true
   },
   "outputs": [],
   "source": [
    "\n",
    "gpu_paramsgpu_para  = {\n",
    "    'objective': 'binary:logistic',\n",
    "    'eval_metric': 'logloss',\n",
    "    'eta': 0.01,\n",
    "    'max_depth': 9,\n",
    "    'min_child_weight': 1,\n",
    "    'updater': 'grow_gpu',\n",
    "    'n_estimators': 1000,\n",
    "    'scale_pos_weight': 1\n",
    "}\n",
    "\n",
    "D_training = xgb.DMatrix(X_training_pruned, label=y_training)\n",
    "D_validation = xgb.DMatrix(X_validation_pruned, label=y_validation)\n",
    "watchlist = [(D_training, 'training'), (D_validation, 'validation')]\n",
    "\n",
    "bst = xgb.train(gpu_params, D_training, 50000, watchlist, early_stopping_rounds=10000, verbose_eval=50)"
   ]
  },
  {
   "cell_type": "code",
   "execution_count": null,
   "metadata": {
    "collapsed": true,
    "deletable": true,
    "editable": true
   },
   "outputs": [],
   "source": [
    "# Combine preprocessed text into a stacked dataframe\n",
    "df = pd.DataFrame()\n",
    "df['pid'] = TEST.test_id.append(TEST.test_id)\n",
    "df['qid'] = pd.Series(np.arange(len(TEST) * 2))\n",
    "df['base'] = pd.read_pickle('./pickles.gi/TEST_tokenized.pkl')\n",
    "df['filtered'] = pd.read_pickle('./pickles.gi/TEST_filtered.pkl')\n",
    "df['stemmed'] = pd.read_pickle('./pickles.gi/TEST_stemmed.pkl')\n",
    "df['stemmed_filtered'] = pd.read_pickle('./pickles.gi/TEST_stemmed_filtered.pkl')\n",
    "df['lemmatized'] = pd.read_pickle('./pickles.gi/TEST_lemmatized.pkl')\n",
    "df['lemmatized_filtered'] = pd.read_pickle('./pickles.gi/TEST_lemmatized_filtered.pkl')\n",
    "df.to_pickle('./pickles.gi/TEST_preprocessed_stacked.pkl')\n",
    "\n",
    "# Create unstacked version of preprocessed dataframe\n",
    "df = pd.read_pickle('./pickles.gi/TEST_preprocessed_stacked.pkl')\n",
    "df = df.merge(df, how='inner', on='pid', suffixes=('_1','_2'))\n",
    "df = df[(df['qid_1'] != df['qid_2']) & (df['qid_1'] < df['qid_1'])]\n",
    "df.reset_index(drop=True, inplace=True)\n",
    "df.to_pickle('./pickles.gi/TEST_preprocessed_unstacked.pkl')\n",
    "\n",
    "# Tagging for Doc2Vec processing\n",
    "preprocessed_stacked = pd.read_pickle('./pickles.gi/TEST_preprocessed_unstacked.pkl')\n",
    "df = pd.DataFrame()\n",
    "df['pid'] = preprocessed_stacked.pid\n",
    "df['qid'] = preprocessed_stacked.qid\n",
    "df['base'] = preprocessed_stacked.apply(lambda x: d2v.TaggedDocument(x['base'], [x['qid']]), axis=1)\n",
    "df['filtered'] = preprocessed_stacked.apply(lambda x: d2v.TaggedDocument(x['filtered'], [x['qid']]), axis=1)\n",
    "df['stemmed'] = preprocessed_stacked.apply(lambda x: d2v.TaggedDocument(x['stemmed'], [x['qid']]), axis=1)\n",
    "df['stemmed_filtered'] = preprocessed_stacked.apply(lambda x: d2v.TaggedDocument(x['stemmed_filtered'], [x['qid']]), axis=1)\n",
    "df['lemmatized'] = preprocessed_stacked.apply(lambda x: d2v.TaggedDocument(x['lemmatized'], [x['qid']]), axis=1)\n",
    "df['lemmatized_filtered'] = preprocessed_stacked.apply(lambda x: d2v.TaggedDocument(x['lemmatized_filtered'], [x['qid']]), axis=1)\n",
    "df.reset_index(drop=True, inplace=True)\n",
    "df.to_pickle('./pickles.gi/TEST_tagged.pkl')"
   ]
  },
  {
   "cell_type": "code",
   "execution_count": null,
   "metadata": {
    "collapsed": true,
    "deletable": true,
    "editable": true
   },
   "outputs": [],
   "source": [
    "# Word share\n",
    "TEST_word_share_base = TEST_preprocessed.apply(lambda x: calculate_word_share(x['base_1'], x['base_2']), axis=1, raw=True)\n",
    "TEST_word_share_filtered = TEST_preprocessed.apply(lambda x: calculate_word_share(x['filtered_1'], x['filtered_2']), axis=1, raw=True)\n",
    "TEST_word_share_stemmed = TEST_preprocessed.apply(lambda x: calculate_word_share(x['stemmed_1'], x['stemmed_2']), axis=1, raw=True)\n",
    "TEST_word_share_stemmed_filtered = TEST_preprocessed.apply(lambda x: calculate_word_share(x['stemmed_filtered_1'], x['stemmed_filtered_2']), axis=1, raw=True)\n",
    "TEST_word_share_lemmatized = TEST_preprocessed.apply(lambda x: calculate_word_share(x['lemmatized_1'], x['lemmatized_2']), axis=1, raw=True)\n",
    "TEST_word_share_lemmatized_filtered = TEST_preprocessed.apply(lambda x: calculate_word_share(x['lemmatized_filtered_1'], x['lemmatized_filtered_2']), axis=1, raw=True)\n",
    "\n",
    "# Combine word share metrics into single dataframe\n",
    "df = pd.DataFrame()\n",
    "df['pid'] = TEST_preprocessed.pid\n",
    "df['base'] = pd.read_pickle('./pickles.gi/TEST_word_share_base.pkl')\n",
    "df['filtered'] = pd.read_pickle('./pickles.gi/TEST_word_share_filtered.pkl')\n",
    "df['stemmed'] = pd.read_pickle('./pickles.gi/TEST_word_share_stemmed.pkl')\n",
    "df['stemmed_filtered'] = pd.read_pickle('./pickles.gi/TEST_word_share_stemmed_filtered.pkl')\n",
    "df['lemmatized'] = pd.read_pickle('./pickles.gi/TEST_word_share_lemmatized.pkl')\n",
    "df['lemmatized_filtered'] = pd.read_pickle('./pickles.gi/TEST_word_share_lemmatized_filtered.pkl')\n",
    "df.to_pickle('./pickles.gi/TEST_word_share.pkl')"
   ]
  },
  {
   "cell_type": "code",
   "execution_count": null,
   "metadata": {
    "collapsed": true
   },
   "outputs": [],
   "source": [
    "# TF-IDF\n",
    "TEST_preprocessed_stacked = pd.read_pickle('./pickles.gi/TEST_preprocessed_stacked.pkl')\n",
    "vectorizer = TfidfVectorizer()\n",
    "\n",
    "# Base\n",
    "TDX = vectorizer.fit_transform(TEST_preprocessed_stacked.base.fillna('').apply(lambda x: ' '.join(x)))\n",
    "weights = dict(zip(vectorizer.get_feature_names(), vectorizer.idf_))\n",
    "pickle.dump(weights, open('./pickles.gi/TEST_tfidf_weights_base.pkl', 'wb'))\n",
    "\n",
    "# Filtered\n",
    "TDX = vectorizer.fit_transform(TEST_preprocessed_stacked.filtered.fillna('').apply(lambda x: ' '.join(x)))\n",
    "weights = dict(zip(vectorizer.get_feature_names(), vectorizer.idf_))\n",
    "pickle.dump(weights, open('./pickles.gi/TEST_tfidf_weights_filtered.pkl', 'wb'))\n",
    "\n",
    "# Stemmed\n",
    "TDX = vectorizer.fit_transform(TEST_preprocessed_stacked.stemmed.fillna('').apply(lambda x: ' '.join(x)))\n",
    "weights = dict(zip(vectorizer.get_feature_names(), vectorizer.idf_))\n",
    "pickle.dump(weights, open('./pickles.gi/TEST_tfidf_weights_stemmed.pkl', 'wb'))\n",
    "\n",
    "# Stemmed & Filtered\n",
    "TDX = vectorizer.fit_transform(TEST_preprocessed_stacked.stemmed_filtered.fillna('').apply(lambda x: ' '.join(x)))\n",
    "weights = dict(zip(vectorizer.get_feature_names(), vectorizer.idf_))\n",
    "pickle.dump(weights, open('./pickles.gi/TEST_tfidf_weights_stemmed_filtered.pkl', 'wb'))\n",
    "\n",
    "# Lemmatized\n",
    "TDX = vectorizer.fit_transform(TEST_preprocessed_stacked.lemmatized.fillna('').apply(lambda x: ' '.join(x)))\n",
    "weights = dict(zip(vectorizer.get_feature_names(), vectorizer.idf_))\n",
    "pickle.dump(weights, open('./pickles.gi/TEST_tfidf_weights_lemmatized.pkl', 'wb'))\n",
    "\n",
    "# Lemmatized & Filtered\n",
    "TDX = vectorizer.fit_transform(TEST_preprocessed_stacked.lemmatized_filtered.fillna('').apply(lambda x: ' '.join(x)))\n",
    "weights = dict(zip(vectorizer.get_feature_names(), vectorizer.idf_))\n",
    "pickle.dump(weights, open('./pickles.gi/TEST_tfidf_weights_lemmatized_filtered.pkl', 'wb'))"
   ]
  },
  {
   "cell_type": "code",
   "execution_count": null,
   "metadata": {
    "collapsed": true
   },
   "outputs": [],
   "source": [
    "#Doc2Vec\n",
    "dmm_model = d2v.Doc2Vec.load('./models.gi/dmm_model_lemmatized_filtered_word2vec_size300_iter10')\n",
    "TEST_preprocessed_unstacked = pd.read_pickle('./pickles.gi/TEST_preprocessed_unstacked.pkl')\n",
    "\n",
    "df = pd.DataFrame()\n",
    "df['vect_1'] = [dmm_model.infer_vector(x) for x in TEST_preprocessed_unstacked.lemmatized_filtered_1]\n",
    "df['vect_2'] = [dmm_model.infer_vector(x) for x in TEST_preprocessed_unstacked.lemmatized_filtered_2]\n",
    "\n",
    "TEST_d2v_cos_sim = pd.DataFrame()\n",
    "TEST_d2v_cos_sim['lemmatized_filtered'] = df.apply(lambda x: 1 - cosine(x.vect_1, x.vect_2), axis=1)\n",
    "TEST_d2v_cos_sim.to_pickle('./pickles.gi/TEST_d2v_cos_sim.pkl')"
   ]
  },
  {
   "cell_type": "code",
   "execution_count": null,
   "metadata": {
    "collapsed": true
   },
   "outputs": [],
   "source": [
    "# Train Test Split\n",
    "X_test = pd.DataFrame()\n",
    "X_test['word_share_base'] = TRAIN_word_share.base\n",
    "X_test['word_share_filtered'] = TRAIN_word_share.filtered\n",
    "X_test['word_share_stemmed'] = TRAIN_word_share.stemmed\n",
    "X_test['word_share_stemmed_filtered'] = TRAIN_word_share.stemmed_filtered\n",
    "X_test['word_share_lemmatized'] = TRAIN_word_share.lemmatized\n",
    "X_test['word_share_lemmatized_filtered'] = TRAIN_word_share.lemmatized\n",
    "X_test['tfidf_word_share_base'] = TRAIN_tfidf_word_share.base\n",
    "X_test['tfidf_word_share_filtered'] = TRAIN_tfidf_word_share.filtered\n",
    "X_test['tfidf_word_share_stemmed'] = TRAIN_tfidf_word_share.stemmed\n",
    "X_test['tfidf_word_share_stemmed_filtered'] = TRAIN_tfidf_word_share.stemmed_filtered\n",
    "X_test['tfidf_word_share_lemmatized'] = TRAIN_tfidf_word_share.lemmatized\n",
    "X_test['tfidf_word_share_lemmatized_filtered'] = TRAIN_tfidf_word_share.lemmatized_filtered\n",
    "X_test['d2v_cos_sim_lemmatized_filtered'] = TRAIN_d2v_cos_sim.lemmatized_filtered\n",
    "\n",
    "# Predict\n",
    "d_test = xgb.DMatrix(pd.DataFrame(X_test).drop(pd.DataFrame(X_test).columns[[3, 4]], axis=1))\n",
    "p_test = bst.predict(d_test)\n",
    "\n",
    "# Submission File\n",
    "sub = pd.DataFrame()\n",
    "sub['test_id'] = TEST['test_id']\n",
    "sub['is_duplicate'] = p_test\n",
    "sub.to_csv('./submission_final.csv', index=False)\n"
   ]
  },
  {
   "cell_type": "code",
   "execution_count": null,
   "metadata": {
    "collapsed": true
   },
   "outputs": [],
   "source": []
  }
 ],
 "metadata": {
  "kernelspec": {
   "display_name": "Python 3",
   "language": "python",
   "name": "python3"
  },
  "language_info": {
   "codemirror_mode": {
    "name": "ipython",
    "version": 3
   },
   "file_extension": ".py",
   "mimetype": "text/x-python",
   "name": "python",
   "nbconvert_exporter": "python",
   "pygments_lexer": "ipython3",
   "version": "3.5.2"
  }
 },
 "nbformat": 4,
 "nbformat_minor": 2
}
